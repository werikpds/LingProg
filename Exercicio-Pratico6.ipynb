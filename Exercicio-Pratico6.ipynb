{
 "nbformat": 4,
 "nbformat_minor": 2,
 "metadata": {
  "language_info": {
   "name": "python",
   "codemirror_mode": {
    "name": "ipython",
    "version": 3
   },
   "version": "3.8.2-final"
  },
  "orig_nbformat": 2,
  "file_extension": ".py",
  "mimetype": "text/x-python",
  "name": "python",
  "npconvert_exporter": "python",
  "pygments_lexer": "ipython3",
  "version": 3,
  "kernelspec": {
   "name": "python38232bitbe866cc4fecd40fcad3fbddef730d377",
   "display_name": "Python 3.8.2 32-bit"
  }
 },
 "cells": [
  {
   "cell_type": "markdown",
   "metadata": {},
   "source": [
    "`1` Defina a função soma_nat que recebe como argumento um número natural n e devolve a soma de todos os números naturais até n.  \n",
    "  \n",
    "Ex: soma_nat(5) = 15"
   ]
  },
  {
   "cell_type": "code",
   "execution_count": 1,
   "metadata": {},
   "outputs": [
    {
     "output_type": "stream",
     "name": "stdout",
     "text": "Fatorial = 15\nFatorial = 10\nFatorial = 6\n"
    }
   ],
   "source": [
    "def soma_nat(n):\n",
    "    return 1 if n == 1 else n + soma_nat(n-1)\n",
    "\n",
    "print('Fatorial =',soma_nat(5))\n",
    "print('Fatorial =',soma_nat(4))\n",
    "print('Fatorial =',soma_nat(3))\n",
    "\n",
    "assert(soma_nat(5) == 15)\n",
    "assert(soma_nat(4) == 10)\n",
    "assert(soma_nat(3) == 6)\n",
    ""
   ]
  },
  {
   "cell_type": "markdown",
   "metadata": {},
   "source": [
    "`2` Defina a função div que recebe como argumentos dois números naturais m e n e devolve o resultado da divisão inteira de m por n. Neste exercício você não pode recorrer às operações aritméticas de multiplicação, divisão e resto da divisão inteira.  \n",
    "  \n",
    "Ex: div(7,2) = 3"
   ]
  },
  {
   "cell_type": "code",
   "execution_count": 3,
   "metadata": {},
   "outputs": [
    {
     "output_type": "stream",
     "name": "stdout",
     "text": "Quociente da divisão de 7 por 2 é igual a 3\nQuociente da divisão de 12 por 3 é igual a 4\nQuociente da divisão de 2 por 1 é igual a 2\n"
    }
   ],
   "source": [
    "def div(m, n):\n",
    "    return 1 + div(m - n, n) if m - n >= 0 else 0\n",
    "\n",
    "print('Quociente da divisão de 7 por 2 é igual a',div(7,2))\n",
    "print('Quociente da divisão de 12 por 3 é igual a',div(12,3))\n",
    "print('Quociente da divisão de 2 por 1 é igual a',div(2,1))\n",
    "\n",
    "assert(div(7,2) == 3)\n",
    "assert(div(12,3) == 4)\n",
    "assert(div(2,1) == 2)\n",
    "\n",
    "\n",
    ""
   ]
  },
  {
   "cell_type": "markdown",
   "metadata": {},
   "source": [
    "`3` Defina a função prim_alg que recebe como argumento um número natural e devolve o primeiro algarismo (o mais significativo) na representação decimal de n.  \n",
    "  \n",
    "Ex: prim_alg(5649) = 5  \n",
    "Ex: prim_alg(7) = 7  "
   ]
  },
  {
   "cell_type": "code",
   "execution_count": 5,
   "metadata": {},
   "outputs": [
    {
     "output_type": "stream",
     "name": "stdout",
     "text": "Primeiro algarismo do número \"5649\" é 5\nPrimeiro algarismo do número \"7\" é 7\nPrimeiro algarismo do número \"100\" é 1\nPrimeiro algarismo do número \"23\" é 2\n"
    }
   ],
   "source": [
    "def prim_alg(n):\n",
    "    return prim_alg(n/10) if n > 9 else int(n)\n",
    "\n",
    "print('Primeiro algarismo do número \"5649\" é',prim_alg(5649))\n",
    "print('Primeiro algarismo do número \"7\" é',prim_alg(7))\n",
    "print('Primeiro algarismo do número \"100\" é',prim_alg(100))\n",
    "print('Primeiro algarismo do número \"23\" é',prim_alg(23))\n",
    "\n",
    "assert(prim_alg(5649) == 5)\n",
    "assert(prim_alg(7) == 7)\n",
    "assert(prim_alg(100) == 1)\n",
    "assert(prim_alg(23) == 2)"
   ]
  },
  {
   "cell_type": "markdown",
   "metadata": {},
   "source": [
    "`4` Defina a função prod_lista que recebe como argumento uma lista de inteiros e devolve o produto dos seus elementos.  \n",
    "  \n",
    "Ex: prod_lista([1,2,3,4,5,6]) = 720"
   ]
  },
  {
   "cell_type": "code",
   "execution_count": 75,
   "metadata": {},
   "outputs": [
    {
     "output_type": "stream",
     "name": "stdout",
     "text": "Produto da lista [1,2,3,4,5,6,7] é 5040\nProduto da lista [1,2,3,4] é 24\nProduto da lista [4,5,6] é 120\n"
    }
   ],
   "source": [
    "def prod_lista(lista):\n",
    "    return lista[len(lista) - 1] * prod_lista(lista[:-1]) if len(lista) > 0 else 1\n",
    "\n",
    "print('Produto da lista [1,2,3,4,5,6,7] é',prod_lista([1,2,3,4,5,6,7]))\n",
    "print('Produto da lista [1,2,3,4] é',prod_lista([1,2,3,4]))\n",
    "print('Produto da lista [4,5,6] é',prod_lista([4,5,6]))\n",
    "\n",
    "assert(prod_lista([1,2,3,4,5,6,7]) == 5040)\n",
    "assert(prod_lista([1,2,3,4]) == 24)\n",
    "assert(prod_lista([4,5,6]) == 120)"
   ]
  },
  {
   "cell_type": "markdown",
   "metadata": {},
   "source": [
    "`5` Defina a função contem_parQ que recebe como argumento uma lista de números inteiros w e devolve True se w contém um número par e False em caso contrário.  \n",
    "  \n",
    "Ex: contem_parQ([2,3,1,2,3,4]) = True  \n",
    "Ex: contem_parQ([1,3,5,7]) = False  "
   ]
  },
  {
   "cell_type": "code",
   "execution_count": 76,
   "metadata": {},
   "outputs": [
    {
     "output_type": "stream",
     "name": "stdout",
     "text": "A lista possui [2,3,1,2,3,4] possui par? True\nA lista possui [1,3,5,7] possui par? False\nA lista possui [1,3,5,7,2] possui par? True\nA lista possui [2,4,6,8] possui par? True\n"
    }
   ],
   "source": [
    "def contem_parQ(w):\n",
    "    return False if len(w) == 0 or (not w[len(w) - 1] % 2 == 0 and not contem_parQ(w[:-1])) else True\n",
    "\n",
    "print('A lista possui [2,3,1,2,3,4] possui par?',contem_parQ([2,3,1,2,3,4]))\n",
    "print('A lista possui [1,3,5,7] possui par?',contem_parQ([1,3,5,7]))\n",
    "print('A lista possui [1,3,5,7,2] possui par?',contem_parQ([1,3,5,7,2]))\n",
    "print('A lista possui [2,4,6,8] possui par?',contem_parQ([2,4,6,8]))\n",
    "\n",
    "assert(contem_parQ([2,3,1,2,3,4]) == True)\n",
    "assert(contem_parQ([1,3,5,7]) == False)\n",
    "assert(contem_parQ([1,3,5,7,2]) == True)\n",
    "assert(contem_parQ([2,4,6,8]) == True)"
   ]
  },
  {
   "cell_type": "markdown",
   "metadata": {},
   "source": [
    "`6` Defina a função todos_imparesQ que recebe como argumento uma lista de números inteiros w e devolve True se w contém apenas números ímpares e False em caso contrário.  \n",
    "  \n",
    "Ex: todos_imparesQ([1,3,5,7]) = True  \n",
    "Ex: todos_imparesQ([]) = True  \n",
    "Ex: todos_imparesQ([1,2,3,4,5]) = False"
   ]
  },
  {
   "cell_type": "code",
   "execution_count": 79,
   "metadata": {},
   "outputs": [
    {
     "output_type": "stream",
     "name": "stdout",
     "text": "Todos da lista [1,3,5,7] são impares? True\nTodos da lista [] são impares? True\nTodos da lista [1,2,3,4,5] são impares? False\n"
    }
   ],
   "source": [
    "def todos_imparesQ( w ):\n",
    "    return True if len(w) == 0 or (w[len(w) - 1] % 2 != 0 and todos_imparesQ(w[:-1])) else False\n",
    "\n",
    "print('Todos da lista [1,3,5,7] são impares?',todos_imparesQ([1,3,5,7]))\n",
    "print('Todos da lista [] são impares?',todos_imparesQ([]))\n",
    "print('Todos da lista [1,2,3,4,5] são impares?',todos_imparesQ([1,2,3,4,5]))\n",
    "\n",
    "assert(todos_imparesQ([1,3,5,7]) == True)\n",
    "assert(todos_imparesQ([]) == True)\n",
    "assert(todos_imparesQ([1,2,3,4,5]) == False)"
   ]
  },
  {
   "cell_type": "markdown",
   "metadata": {},
   "source": [
    "`7` Defina a função pertenceQ que recebe como argumentos uma lista de números inteiros w e um número inteiro n e devolve True se n ocorre em w e False em caso contrário.  \n",
    "  \n",
    "Ex: pertenceQ([1,2,3],1) = True  \n",
    "Ex: pertenceQ([1,2,3],2) = True  \n",
    "Ex: pertenceQ([1,2,3],3) = True  \n",
    "Ex: pertenceQ([1,2,3],4) = False  "
   ]
  },
  {
   "cell_type": "code",
   "execution_count": 94,
   "metadata": {},
   "outputs": [
    {
     "output_type": "stream",
     "name": "stdout",
     "text": "O numero 1 pertence a lista [1,2,3]? True\nO numero 2 pertence a lista [1,2,3]? True\nO numero 3 pertence a lista [1,2,3]? True\nO numero 4 pertence a lista [1,2,3]? False\nO numero 4 pertence a lista [4,5,6]? True\nO numero 4 pertence a lista [8,9,10]? False\n"
    }
   ],
   "source": [
    "def pertenceQ(w, n):\n",
    "    return False if len(w) == 0 or (not w[len(w) - 1] == n and not pertenceQ(w[:-1], n)) else True\n",
    "\n",
    "print('O numero 1 pertence a lista [1,2,3]?',pertenceQ([1,2,3],1))\n",
    "print('O numero 2 pertence a lista [1,2,3]?',pertenceQ([1,2,3],2))\n",
    "print('O numero 3 pertence a lista [1,2,3]?',pertenceQ([1,2,3],3))\n",
    "print('O numero 4 pertence a lista [1,2,3]?',pertenceQ([1,2,3],4))\n",
    "print('O numero 4 pertence a lista [4,5,6]?',pertenceQ([4,5,6],4))\n",
    "print('O numero 4 pertence a lista [8,9,10]?',pertenceQ([8,9,10],4))\n",
    "\n",
    "\n",
    "\n",
    "assert(pertenceQ([1,2,3],1) == True)\n",
    "assert(pertenceQ([1,2,3],2) == True)\n",
    "assert(pertenceQ([1,2,3],3) == True)\n",
    "assert(pertenceQ([1,2,3],4) == False)\n",
    "assert(pertenceQ([4,5,6],4) == True)\n",
    "assert(pertenceQ([8,9,10],4) == False)"
   ]
  },
  {
   "cell_type": "markdown",
   "metadata": {},
   "source": [
    "`8` Defina a função junta que recebe como argumentos duas listas de números inteiros w1 e w2 e devolve a concatenação de w1 com w2.  \n",
    "  \n",
    "Ex: junta([1,2,3],[4,5,6]) = [1, 2, 3, 4, 5, 6]  \n",
    "Ex: junta([],[4,5,6]) = [4, 5, 6]  \n",
    "Ex: junta([1,2,3],[]) = [1, 2, 3]"
   ]
  },
  {
   "cell_type": "code",
   "execution_count": null,
   "metadata": {},
   "outputs": [],
   "source": [
    "def junta(w1, w2):\n",
    "    return w1 + junta(w2[0:1], w2[1:]) if len(w2) > 0 else w1 + w2\n",
    "\n",
    "print('Juntando as listas [1,2,3],[4,5,6] fica igual',junta([1,2,3],[4,5,6]))\n",
    "print('Juntando as listas [],[4,5,6] fica igual',junta([],[4,5,6]) )\n",
    "print('Juntando as listas [1,2,3],[] fica igual',junta([1,2,3],[]) )\n",
    "print('Juntando as listas [14,15,16],[4,5,6] fica igual',junta([14,15,16],[4,5,6]) )\n",
    "print('Juntando as listas [1,2,3],[1,2,3] fica igual',junta([1,2,3],[1,2,3]) )\n",
    "\n",
    "assert(junta([1,2,3],[4,5,6]) == [1, 2, 3, 4, 5, 6])\n",
    "assert(junta([],[4,5,6]) == [4, 5, 6])\n",
    "assert(junta([1,2,3],[]) == [1, 2, 3])\n",
    "assert(junta([14,15,16],[4,5,6]) == [14, 15, 16,4, 5, 6])\n",
    "assert(junta([1,2,3],[1,2,3]) == [1, 2, 3, 1, 2, 3])"
   ]
  },
  {
   "cell_type": "markdown",
   "metadata": {},
   "source": [
    "`9` Defina a função temPrimoQ que recebe como argumento uma lista de listas de números inteiros w e devolve True se alguma das sublistas w tem um número primo e False em caso contrário.  \n",
    "  \n",
    "Ex: temPrimoQ([[4,4,4,4],[5,4,6,7],[2,4,3]]) = True  \n",
    "Ex: temPrimoQ([[4,4,4,4],[4,4,4],[],[4]]) = False"
   ]
  },
  {
   "cell_type": "code",
   "execution_count": 92,
   "metadata": {},
   "outputs": [
    {
     "output_type": "stream",
     "name": "stdout",
     "text": "A lista [[4,4,4,4],[5,4,6,7],[2,4,3]] tem primo? True\nA lista [[4,4,4,4],[4,4,4],[],[4]] tem primo? False\nA lista [[4,4,4,4],[6,7,5,7],[1,1,1]] tem primo? True\nA lista [[4,4,4,4],[4,4,4],[],[4]] tem primo? False\n"
    }
   ],
   "source": [
    "def auxTemPrimoQ(w):\n",
    "    return not(len(w) == 0 or(not((is_primo(w[0])) or w.pop() in [2,3,5,7,11]) and not auxTemPrimoQ(w)))\n",
    "\n",
    "def temPrimoQ(w):    \n",
    "    return not(len(w) == 0 or (not(auxTemPrimoQ(w.pop())) and not temPrimoQ(w)))\n",
    "\n",
    "def is_primo(n,k=1):\n",
    "    return True if (n % k + 1) != True and is_primo(n, k) == True and n != k else False\n",
    "\n",
    "print('A lista [[4,4,4,4],[5,4,6,7],[2,4,3]] tem primo?',temPrimoQ([[4,4,4,4],[5,4,6,7],[2,4,3]]))\n",
    "print('A lista [[4,4,4,4],[4,4,4],[],[4]] tem primo?',temPrimoQ([[4,4,4,4],[4,4,4],[],[4]]))\n",
    "print('A lista [[4,4,4,4],[6,7,5,7],[1,1,1]] tem primo?',temPrimoQ([[4,4,4,4],[6,7,5,7],[1,1,1]]))\n",
    "print('A lista [[4,4,4,4],[4,4,4],[],[4]] tem primo?',temPrimoQ([[4,4,4,4],[4,4,4],[4,4],[4]]))\n",
    "\n",
    "assert(temPrimoQ([[4,4,4,4],[5,4,6,7],[2,4,3]]) == True)\n",
    "assert(temPrimoQ([[4,4,4,4],[4,4,4],[],[4]]) == False)\n",
    "assert(temPrimoQ([[4,4,4,4],[6,7,5,7],[1,1,1]]) == True)\n",
    "assert(temPrimoQ([[4,4,4,4],[4,4,4],[4,4],[4]]) == False)"
   ]
  },
  {
   "cell_type": "markdown",
   "metadata": {},
   "source": [
    "`10` Defina a função inverteLista que recebe como argumento uma lista w e devolve a mesma lista mas invertida.  \n",
    "  \n",
    "Ex: inverteLista([1,2,3,4,5]) = [5, 4, 3, 2, 1]  \n",
    "Ex: inverteLista([])  "
   ]
  },
  {
   "cell_type": "code",
   "execution_count": 87,
   "metadata": {},
   "outputs": [
    {
     "output_type": "stream",
     "name": "stdout",
     "text": "A lista [1,2,3,4,5] invertida é igual [5, 4, 3, 2, 1]\nA lista [] invertida é igual []\nA lista [5,4,3,2,1] invertida é igual [1, 2, 3, 4, 5]\nA lista [73,146,219] invertida é igual [219, 146, 73]\n"
    }
   ],
   "source": [
    "def inverteLista(w):\n",
    "    return [] if len(w) == 0 else [w[len(w) - 1]] + (inverteLista(w[:-1]))\n",
    "\n",
    "print('A lista [1,2,3,4,5] invertida é igual',inverteLista([1,2,3,4,5]))\n",
    "print('A lista [] invertida é igual',inverteLista([]))\n",
    "print('A lista [5,4,3,2,1] invertida é igual',inverteLista([5,4,3,2,1]))\n",
    "print('A lista [73,146,219] invertida é igual',inverteLista([73,146,219]))\n",
    "\n",
    "\n",
    "assert(inverteLista([1,2,3,4,5]) == [5, 4, 3, 2, 1])\n",
    "assert(inverteLista([]) == [])\n",
    "assert(inverteLista([5,4,3,2,1]) == [1, 2, 3, 4, 5])\n",
    "assert(inverteLista([73,146,219]) == [219, 146, 73])"
   ]
  },
  {
   "cell_type": "code",
   "execution_count": null,
   "metadata": {},
   "outputs": [],
   "source": []
  }
 ]
}