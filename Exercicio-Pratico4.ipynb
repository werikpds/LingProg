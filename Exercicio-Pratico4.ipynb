{
 "nbformat": 4,
 "nbformat_minor": 2,
 "metadata": {
  "language_info": {
   "name": "python",
   "codemirror_mode": {
    "name": "ipython",
    "version": 3
   },
   "version": "3.8.2-final"
  },
  "orig_nbformat": 2,
  "file_extension": ".py",
  "mimetype": "text/x-python",
  "name": "python",
  "npconvert_exporter": "python",
  "pygments_lexer": "ipython3",
  "version": 3,
  "kernelspec": {
   "name": "python38232bitbe866cc4fecd40fcad3fbddef730d377",
   "display_name": "Python 3.8.2 32-bit"
  }
 },
 "cells": [
  {
   "cell_type": "markdown",
   "metadata": {},
   "source": [
    "`1` Menor de dois pares: Escreva uma função que retorne o menor de dois números\n",
    "dados se ambos os números forem pares, mas retorna o maior se um dos dois for\n",
    "ímpar. Exemplo:  \n",
    "menor_de_dois_pares(2,4) --> 2  \n",
    "menor_de_dois_pares (2,5) --> 5  "
   ]
  },
  {
   "cell_type": "code",
   "execution_count": 4,
   "metadata": {},
   "outputs": [
    {
     "output_type": "stream",
     "name": "stdout",
     "text": "Os dois números são pares portanto o menor número é 2\nUm dos números é ímpar portanto o menor número é 5\n"
    }
   ],
   "source": [
    "def menor_de_dois_pares(a, b):\n",
    "    if ((a + b) % 2 == 1):\n",
    "        if a > b: return a\n",
    "        else: return b\n",
    "    else:\n",
    "        if a > b: return b\n",
    "        else: return a\n",
    "\n",
    "print(f'Os dois números são pares portanto o menor número é {menor_de_dois_pares(2,4)}')\n",
    "print(f'Um dos números é ímpar portanto o menor número é {menor_de_dois_pares(2,5)}')"
   ]
  },
  {
   "cell_type": "markdown",
   "metadata": {},
   "source": [
    "`2` Mesma letra: Escreva uma função que receba uma string com duas palavras e retorne True se ambas palavras começarem com a mesma letra. Exemplo:  \n",
    "  \n",
    "mesma_letra('Cão covarde') -> True  \n",
    "mesma_letra('Vira Lata') -> False  "
   ]
  },
  {
   "cell_type": "code",
   "execution_count": 16,
   "metadata": {},
   "outputs": [
    {
     "output_type": "stream",
     "name": "stdout",
     "text": "As primeira de letra das duas palavras são iguais? True\nAs primeira de letra das duas palavras são iguais? False\n"
    }
   ],
   "source": [
    "def mesma_letra(frase):\n",
    "    palavras = frase.lower().split()\n",
    "    return palavras[0][0] == palavras[1][0]\n",
    "\n",
    "print(f\"As primeira de letra das duas palavras são iguais? {mesma_letra('Cão covarde')}\")\n",
    "print(f\"As primeira de letra das duas palavras são iguais? {mesma_letra('Vira Lata')}\")"
   ]
  },
  {
   "cell_type": "markdown",
   "metadata": {},
   "source": [
    "`3` Mestre Yoda: Dada uma sentença, a função deve retornar a sentença com as palavras na ordem reversa. Exemplo:  \n",
    "  \n",
    "mestre_yoda('Eu estou em casa') --> 'casa em estou Eu'  \n",
    "mestre_yoda('Estamos prontos') --> 'prontos Estamos'  "
   ]
  },
  {
   "cell_type": "code",
   "execution_count": 59,
   "metadata": {},
   "outputs": [
    {
     "output_type": "stream",
     "name": "stdout",
     "text": "A frase invertida é: casa em estou Eu\nA frase invertida é: prontos Estamos\n"
    }
   ],
   "source": [
    "def mestre_yoda(frase):\n",
    "    frase_invertida = frase.split()\n",
    "    frase_invertida.reverse()\n",
    "    frase_invertida = ' '.join(frase_invertida)\n",
    "    frase_invertida = f'A frase invertida é: {frase_invertida}'\n",
    "    return frase_invertida\n",
    "\n",
    "print(mestre_yoda('Eu estou em casa'))\n",
    "print(mestre_yoda('Estamos prontos'))"
   ]
  },
  {
   "cell_type": "markdown",
   "metadata": {},
   "source": [
    "`4` Tem 33: Faça uma função que retorne True se, dada uma lista de inteiros, houver em alguma posição da lista um 3 do lado de outro 3. Exemplo:  \n",
    "  \n",
    "tem_33([1,3,3]) --> True  \n",
    "tem_33([1,3,1,3]) --> False  \n",
    "tem_33([3,1,3]) --> False  "
   ]
  },
  {
   "cell_type": "code",
   "execution_count": 4,
   "metadata": {},
   "outputs": [
    {
     "output_type": "stream",
     "name": "stdout",
     "text": "True\nFalse\nFalse\n"
    }
   ],
   "source": [
    "def tem_33(*int_list):\n",
    "    i = 0\n",
    "    while i < (len(int_list)-1):\n",
    "        if int_list[i] == int_list[i+1] and int_list[i] == 3:\n",
    "            return True\n",
    "        i = i + 1\n",
    "    return False\n",
    "\n",
    "print(tem_33(1,3,3))\n",
    "print(tem_33(1,3,1,3))\n",
    "print(tem_33(3,1,3))"
   ]
  },
  {
   "cell_type": "markdown",
   "metadata": {},
   "source": [
    "`5` **Blackjack**: Faça uma função que receba 3 inteiros entre 1 e 11. Se a soma deles for menor que 21, retorne o valor da soma. Se for mair do que 21 e houver um 11, subtraia 10 da soma antes de apresentar o resultado. Se o valor da soma passar de 21, retorne ‘ESTOUROU’.  \n",
    "Exemplo:  \n",
    "\n",
    "blackjack(5,6,7) --> 18  \n",
    "blackjack(9,9,9) --> 'ESTOUROU'  \n",
    "blackjack(9,9,11) --> 19  "
   ]
  },
  {
   "cell_type": "code",
   "execution_count": 7,
   "metadata": {},
   "outputs": [
    {
     "output_type": "stream",
     "name": "stdout",
     "text": "18\nESTOROU\n19\n"
    }
   ],
   "source": [
    "def blackjack(ia, ib, ic):\n",
    "    if ia + ib + ic < 21:\n",
    "        return ia + ib + ic\n",
    "    if ia + ib + ic > 21: \n",
    "        if ((ia == 11) or (ib == 11) or (ic == 11)):\n",
    "            return ia + ib + ic - 10\n",
    "        return 'ESTOROU'\n",
    "\n",
    "print(blackjack(5,6,7))\n",
    "print(blackjack(9,9,9))\n",
    "print(blackjack(9,9,11))"
   ]
  },
  {
   "cell_type": "markdown",
   "metadata": {},
   "source": [
    "`6` **Espião**: Escreva uma função que receba uma lista de inteiros e retorne True se contém um 007 em ordem, mesmo que não contínuo.  \n",
    "Exemplo:\n",
    "\n",
    "espiao([1,2,4,0,0,7,5])  \n",
    "espiao([1,0,2,4,0,5,7])  \n",
    "espiao([1,7,2,4,0,5,0])  "
   ]
  },
  {
   "cell_type": "code",
   "execution_count": 8,
   "metadata": {},
   "outputs": [
    {
     "output_type": "stream",
     "name": "stdout",
     "text": "True\nTrue\nFalse\n"
    }
   ],
   "source": [
    "def espiao(list):\n",
    "    cont = 0\n",
    "    for x in list:\n",
    "        if x == 0 or (cont >= 2 and x == 7):\n",
    "            if x == 7:\n",
    "                return True\n",
    "            cont = cont + 1\n",
    "    return False\n",
    "\n",
    "print(espiao([1,2,4,0,0,7,5]))\n",
    "print(espiao([1,0,2,4,0,5,7]))\n",
    "print(espiao([1,7,2,4,0,5,0]))"
   ]
  }
 ]
}