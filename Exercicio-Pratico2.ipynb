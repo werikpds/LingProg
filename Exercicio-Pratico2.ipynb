{
 "cells": [
  {
   "cell_type": "markdown",
   "metadata": {},
   "source": [
    "1 Crie um programa que recebe uma lista de números e\n",
    "- retorne o maior elemento\n",
    "- retorne a soma dos elementos\n",
    "- retorne o número de ocorrências do primeiro elemento da lista\n",
    "- retorne a média dos elementos\n",
    "- retorne o valor mais próximo da média dos elementos\n",
    "- retorne a soma dos elementos com valor negativo\n",
    "- retorne a quantidade de vizinhos iguais"
   ]
  },
  {
   "cell_type": "code",
   "execution_count": 14,
   "metadata": {},
   "outputs": [
    {
     "name": "stdout",
     "output_type": "stream",
     "text": [
      "-1\n",
      "-2\n",
      "4\n",
      "-5\n",
      "7\n",
      "O maior elemento é 7\n",
      "A soma dos elementos é 3\n",
      "O número de ocorrência do primeiro elemento da lista é 1\n",
      "A média dos elementos é 0.6\n",
      "O valor mais próximo da média dos elementos é 7\n",
      "A soma dos elementos com valores negativos é -8\n"
     ]
    }
   ],
   "source": [
    "list=[]\n",
    "i=5\n",
    "while i > 0:\n",
    "    i = i - 1\n",
    "    list.append(int(input()))\n",
    "numero_proximo = list[0]\n",
    "soma_negativo = 0\n",
    "for l in list:\n",
    "    if ((sum(list)/len(list))+l)/2 > ((sum(list)/len(list))+numero_proximo)/2:\n",
    "        numero_proximo = l\n",
    "for l in list:\n",
    "    if l < 0:\n",
    "        soma_negativo = soma_negativo + l\n",
    "print(f\"O maior elemento é {max(list, key=int)}\")\n",
    "print(f\"A soma dos elementos é {sum(list)}\")\n",
    "print(f\"O número de ocorrência do primeiro elemento da lista é {list.count(list[0])}\")\n",
    "print(f\"A média dos elementos é {sum(list)/len(list)}\")\n",
    "print(f\"O valor mais próximo da média dos elementos é {numero_proximo}\")\n",
    "print(f\"A soma dos elementos com valores negativos é {soma_negativo}\")\n",
    "print(f\"A quantidade de vizinhos iguais {}\")"
   ]
  },
  {
   "cell_type": "markdown",
   "metadata": {},
   "source": [
    "2 Faça um programa que receba duas listas e retorne True se são iguais ou False caso\n",
    "contrario.  \n",
    "Duas listas são iguais se possuem os mesmos valores e na mesma ordem."
   ]
  },
  {
   "cell_type": "code",
   "execution_count": 18,
   "metadata": {},
   "outputs": [
    {
     "name": "stdout",
     "output_type": "stream",
     "text": [
      "Elemento adicionado a primeira lista: 1\n",
      "Elemento adicionado a segunda lista: 2\n",
      "Elemento adicionado a primeira lista: 2\n",
      "Elemento adicionado a segunda lista: 1\n",
      "Elemento adicionado a primeira lista: 3\n",
      "Elemento adicionado a segunda lista: 3\n",
      "[1, 2, 3]\n",
      "[2, 1, 3]\n",
      "As duas listas são diferentes\n"
     ]
    }
   ],
   "source": [
    "list=[]\n",
    "list_2=[]\n",
    "i = 3\n",
    "while i > 0:\n",
    "    i = i - 1\n",
    "    list.append(int(input(\"Elemento adicionado a primeira lista: \")))\n",
    "    list_2.append(int(input(\"Elemento adicionado a segunda lista: \")))\n",
    "print(list)\n",
    "print(list_2)\n",
    "if list == list_2:\n",
    "    print(\"As duas listas são iguais\")\n",
    "else:\n",
    "    print(\"As duas listas são diferentes\")"
   ]
  },
  {
   "cell_type": "markdown",
   "metadata": {},
   "source": [
    "3 Faça um programa que receba duas listas e retorne True se têm os mesmos elementos ou False caso contrário duas listas possuem os mesmos elementos quando são compostas pelos mesmos valores, mas não obrigatoriamente na mesma ordem."
   ]
  },
  {
   "cell_type": "code",
   "execution_count": 20,
   "metadata": {},
   "outputs": [
    {
     "name": "stdout",
     "output_type": "stream",
     "text": [
      "Elemento adicionado a primeira lista: 1\n",
      "Elemento adicionado a segunda lista: 2\n",
      "Elemento adicionado a primeira lista: 2\n",
      "Elemento adicionado a segunda lista: 1\n",
      "Elemento adicionado a primeira lista: 3\n",
      "Elemento adicionado a segunda lista: 3\n",
      "[1, 2, 3]\n",
      "[2, 1, 3]\n",
      "As duas listas possuem elementos iguais\n"
     ]
    }
   ],
   "source": [
    "list=[]\n",
    "list_2=[]\n",
    "i = 3\n",
    "while i > 0:\n",
    "    i = i - 1\n",
    "    list.append(int(input(\"Elemento adicionado a primeira lista: \")))\n",
    "    list_2.append(int(input(\"Elemento adicionado a segunda lista: \")))\n",
    "print(list)\n",
    "print(list_2)\n",
    "if list.sort() == list_2.sort():\n",
    "    print(\"As duas listas possuem elementos iguais\")\n",
    "else:\n",
    "    print(\"As duas listas possuem elementos diferentes\")"
   ]
  },
  {
   "cell_type": "markdown",
   "metadata": {},
   "source": [
    "4 Faça um programa que percorre uma lista com o seguinte formato: [[&#39;Brasil&#39;,\n",
    "&#39;Italia&#39;, [10, 9]], [&#39;Brasil&#39;, &#39;Espanha&#39;, [5, 7]], [&#39;Italia&#39;, &#39;Espanha&#39;, [7,8]]]. Essa lista indica o\n",
    "número de faltas que cada time fez em cada jogo. Na lista acima, no jogo entre Brasil\n",
    "e Itália, o Brasil fez 10 faltas e a Itália fez 9.\n",
    "O programa deve imprimir na tela:\n",
    "- o total de faltas do campeonato\n",
    "- o time que fez mais faltas\n",
    "- o time que fez menos faltas"
   ]
  },
  {
   "cell_type": "code",
   "execution_count": 30,
   "metadata": {},
   "outputs": [
    {
     "name": "stdout",
     "output_type": "stream",
     "text": [
      "O número total de faltas é igual a 46\n",
      "O time que fez mais falta foi Brasil, foram 10 faltas\n",
      "O time que fez mais falta foi Brasil, foram 5 faltas\n"
     ]
    }
   ],
   "source": [
    "campeonato = [['Brasil', 'Italia', [10, 9]],['Brasil', 'Espanha', [5, 7]],  ['Italia', 'Espanha', [7,8]]]\n",
    "faltas = 0\n",
    "time_com_mais_falta = ''\n",
    "maior_numero_de_falta = 0\n",
    "time_com_menor_falta = ''\n",
    "menor_numero_de_falta = 100\n",
    "for jogo in campeonato:\n",
    "    if jogo[2][0] > jogo[2][1] and maior_numero_de_falta < (jogo[2][0] or jogo[2][1]):\n",
    "        time_com_mais_falta = jogo[0]\n",
    "        maior_numero_de_falta = jogo[2][0]\n",
    "    if jogo[2][0] < jogo[2][1] and maior_numero_de_falta < (jogo[2][0] or jogo[2][1]):\n",
    "        time_com_mais_falta = jogo[1]\n",
    "        maior_numero_de_falta = jogo[2][1]\n",
    "    if jogo[2][0] < jogo[2][1] and menor_numero_de_falta > (jogo[2][0] or jogo[2][1]):\n",
    "        time_com_menos_falta = jogo[0]\n",
    "        menor_numero_de_falta = jogo[2][0]\n",
    "    if jogo[2][0] > jogo[2][1] and menor_numero_de_falta > (jogo[2][0] or jogo[2][1]):\n",
    "        time_com_menos_falta = jogo[1]\n",
    "        menor_numero_de_falta = jogo[2][1]\n",
    "    faltas += sum(jogo[2])\n",
    "print(f\"O número total de faltas é igual a {faltas}\")\n",
    "print(f\"O time que fez mais falta foi {time_com_mais_falta}, foram {maior_numero_de_falta} faltas\")\n",
    "print(f\"O time que fez mais falta foi {time_com_menos_falta}, foram {menor_numero_de_falta} faltas\")"
   ]
  },
  {
   "cell_type": "code",
   "execution_count": null,
   "metadata": {},
   "outputs": [],
   "source": []
  }
 ],
 "metadata": {
  "kernelspec": {
   "display_name": "Python 3",
   "language": "python",
   "name": "python3"
  },
  "language_info": {
   "codemirror_mode": {
    "name": "ipython",
    "version": 3
   },
   "file_extension": ".py",
   "mimetype": "text/x-python",
   "name": "python",
   "nbconvert_exporter": "python",
   "pygments_lexer": "ipython3",
   "version": "3.8.2"
  }
 },
 "nbformat": 4,
 "nbformat_minor": 4
}
