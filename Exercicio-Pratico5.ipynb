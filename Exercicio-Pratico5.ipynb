{
 "nbformat": 4,
 "nbformat_minor": 2,
 "metadata": {
  "language_info": {
   "name": "python",
   "codemirror_mode": {
    "name": "ipython",
    "version": 3
   },
   "version": "3.8.2-final"
  },
  "orig_nbformat": 2,
  "file_extension": ".py",
  "mimetype": "text/x-python",
  "name": "python",
  "npconvert_exporter": "python",
  "pygments_lexer": "ipython3",
  "version": 3,
  "kernelspec": {
   "name": "python38232bitbe866cc4fecd40fcad3fbddef730d377",
   "display_name": "Python 3.8.2 32-bit"
  }
 },
 "cells": [
  {
   "cell_type": "markdown",
   "metadata": {},
   "source": [
    "`1` **Linha**: Crie a classe Linha que tem dois atributos, coordenada1 e coordenada2. Cada coordenada é uma tupla que carrega duas coordenadas cartesianas (x,y) que denotam pontos do segmento de reta. Faça métodos que calculem o comprimento do segmento de reta e sua inclinação."
   ]
  },
  {
   "cell_type": "code",
   "execution_count": 6,
   "metadata": {},
   "outputs": [],
   "source": [
    "class Linha:\n",
    "    def __init__(self, coordenada1, coordenada2):\n",
    "        self.cord1 = coordenada1\n",
    "        self.cord2 = coordenada2\n",
    "\n",
    "    def perimetro(self):\n",
    "        x = self.cord1[0] - self.cord2[0]\n",
    "        y = self.cord1[1] - self.cord2[1]\n",
    "        return (x**2 + y**2) ** (1/2)"
   ]
  },
  {
   "cell_type": "code",
   "execution_count": 9,
   "metadata": {},
   "outputs": [
    {
     "output_type": "stream",
     "name": "stdout",
     "text": "7.0710678118654755\n"
    }
   ],
   "source": [
    "l = Linha((4, 6), (9, 11))\n",
    "print(l.perimetro())"
   ]
  },
  {
   "cell_type": "markdown",
   "metadata": {},
   "source": [
    "`2` **Figuras**: Crie a seguinte hierarquia de classes de figuras geométricas.  \n",
    "a. A classe abstrata Figura deve ter o método abstrato area.  \n",
    "b. A classe concreta Circulo é subclasse de Figura.  \n",
    "c. A classe abstrata Poligono é subclasse de Figura e deve ter os atributos base e altura.  \n",
    "d. As classes concretas Triangulo, Losango, Retangulo e Quadrado são subclasses de Poligono. Tente criar mais uma generalização aqui olhando as fórmulas da área.  \n",
    "e. Os polígonos Retangulo e Quadrado devem implementar a interface Diagonal, que deve ter um método que calcula a diagonal.  \n",
    "f. Crie uma classe Geometria com uma lista de Figuras com pelo menos uma figura de cada e imprima suas áreas,  perímetros e diagonais."
   ]
  },
  {
   "cell_type": "code",
   "execution_count": 77,
   "metadata": {},
   "outputs": [],
   "source": [
    "import math\n",
    "\n",
    "class Figura:\n",
    "    \n",
    "    def area (self) :\n",
    "        raise NotImplementedError (\"Método abstrato que deve ser implementado por uma classe filha\") \n",
    "        \n",
    "class Circulo (Figura) :\n",
    "    \n",
    "    def __init__ (self, raio) :\n",
    "        self.raio = raio\n",
    "    \n",
    "    def area (self) :\n",
    "        return math.pi * (self.raio**2) \n",
    "    \n",
    "class Poligono (Figura) :\n",
    "    \n",
    "    def __init__ (self, base, altura) :\n",
    "        self.base = base\n",
    "        self.altura = altura        \n",
    "    \n",
    "        \n",
    "class Triangulo (Poligono) :\n",
    "    \n",
    "    def area (self) :\n",
    "        return  (self.base * self.altura)  / 2\n",
    "\n",
    "class Losango (Poligono) :\n",
    "    \n",
    "    def area (self) :\n",
    "        return  (self.base * self.altura)/2\n",
    "    \n",
    "class Diagonal:\n",
    "    \n",
    "    def diagonal (self, base, altura) :\n",
    "        return  (base**2 + altura**2) ** (1/2) \n",
    "    \n",
    "\n",
    "class Retangulo (Poligono) :\n",
    "    \n",
    "    diagonal = Diagonal () \n",
    "        \n",
    "    def diagonal (self) :\n",
    "        return self.diagonal.diagonal (self.base, self.altura) \n",
    "    \n",
    "    def area (self) :\n",
    "        return self.base * self.altura\n",
    "\n",
    "class Quadrado (Retangulo) :\n",
    "    def __init__ (self, lado) :\n",
    "        Retangulo.__init__ (self, lado, lado) \n",
    "\n",
    "        \n",
    "class Geometria:\n",
    "    \n",
    "    def __init__ (self, figuras) :\n",
    "        self.lista = [x for x in figuras]\n",
    "\n",
    "    def lista_figuras(self):\n",
    "        for x in self.lista:\n",
    "            print(f'Figura: {type (x) .__name__} \\nArea: {x.area () }\\n') "
   ]
  },
  {
   "cell_type": "code",
   "execution_count": 78,
   "metadata": {},
   "outputs": [
    {
     "output_type": "stream",
     "name": "stdout",
     "text": "=-=-=-=-=-=-=-=-=-=-=-=-=-=-=-=-=-=-=-=-=-=-=-=-=-=-=-=-=-=-\nFigura: Circulo \nArea: 314.1592653589793\n\nFigura: Triangulo \nArea: 50.0\n\nFigura: Losango \nArea: 50.0\n\nFigura: Retangulo \nArea: 100.0\n\nFigura: Quadrado \nArea: 100.0\n\n"
    }
   ],
   "source": [
    "raioC = float (input ('Coloque o raio do circulo:') ) \n",
    "baseT = float (input ('Coloque a base do triangulo:') ) \n",
    "alturaT = float (input ('Coloque a altura do triangulo:') ) \n",
    "baseL = float (input ('Coloque a base do losango:') ) \n",
    "alturaL = float (input ('Coloque a altura do losango:') ) \n",
    "baseR = float (input ('Coloque a base do retangulo:') ) \n",
    "alturaR = float (input ('Coloque a altura do retangulo:') ) \n",
    "ladoQ = float (input ('Coloque o lado do quadrado:') ) \n",
    "print ('=-' * 30) \n",
    "\n",
    "geometria = Geometria ([    \n",
    "    Circulo (raioC) ,\n",
    "    Triangulo (baseT, alturaT) ,\n",
    "    Losango (baseL, alturaL) ,\n",
    "    Retangulo (baseR, alturaR) ,\n",
    "    Quadrado (ladoQ) \n",
    "])\n",
    "\n",
    "geometria.lista_figuras()"
   ]
  },
  {
   "cell_type": "markdown",
   "metadata": {},
   "source": [
    "`3` **Jogo de Blackjack**: Faça um joguinho simples em Python.  \n",
    "Aqui estão os requisitos:  \n",
    "- Você precisa criar um jogo de BlackJack (21) baseado em texto simples  \n",
    "- O jogo precisa ter um jogador contra um croupier automatizado.  \n",
    "- O jogador pode desistir ou bater.  \n",
    "- O jogador deve ser capaz de escolher o seu valor de aposta.  \n",
    "- Você precisa acompanhar o dinheiro total do jogador.  \n",
    "- Você precisa alertar o jogador de vitórias, derrotas ou estouros, etc ...  "
   ]
  },
  {
   "cell_type": "code",
   "execution_count": 80,
   "metadata": {},
   "outputs": [],
   "source": [
    "import random\n",
    "\n",
    "class Deck:\n",
    "    \n",
    "    def __init__(self):\n",
    "        valores = ['A', '2', '3', '4', '5', '6', '7', '8', '9', '10', 'J', 'Q', 'K']\n",
    "        naipes = ['paus', 'copas', 'ouros', 'espadas']\n",
    "        self.cartas = [[y, x] for x in naipes for y in valores]\n",
    "        random.shuffle(self.cartas) \n",
    "        \n",
    "    def pop_carta(self):\n",
    "        return self.cartas.pop()\n",
    ""
   ]
  },
  {
   "cell_type": "code",
   "execution_count": 83,
   "metadata": {},
   "outputs": [],
   "source": [
    "class MaoJogador:\n",
    "    \n",
    "    def __init__(self):\n",
    "        self.cartas = []\n",
    "        \n",
    "    def adicionar_carta(self, carta):\n",
    "        return self.cartas.append(carta)\n",
    "    \n",
    "    def get_cartas(self):\n",
    "        return self.cartas\n",
    "    \n",
    "    def calcular_pontos(self):\n",
    "        valor_das_cartas_da_mao = []\n",
    "        for i, carta in enumerate(self.cartas):\n",
    "            valor = carta[0]\n",
    "            if valor == 'A':\n",
    "                valor = 11\n",
    "            elif valor in 'JQK':\n",
    "                valor = 10\n",
    "            valor_das_cartas_da_mao.append(int(valor))\n",
    "        valor_total = sum(valor_das_cartas_da_mao)\n",
    "        if valor_total > 21:\n",
    "            for i, carta in enumerate(self.cartas):\n",
    "                if carta == 'A':\n",
    "                    valor_das_cartas_da_mao[i] = 1\n",
    "        return sum(valor_das_cartas_da_mao)\n",
    "            "
   ]
  },
  {
   "cell_type": "code",
   "execution_count": 92,
   "metadata": {},
   "outputs": [
    {
     "output_type": "stream",
     "name": "stdout",
     "text": "O Coupier tem a seguinte carta: ['5', 'ouros']\nSuas cartas são: [['2', 'ouros'], ['3', 'copas']]\n\nSua mão: [['2', 'ouros'], ['3', 'copas'], ['J', 'ouros']]\nPontuação: 15\n\nSua mão: [['2', 'ouros'], ['3', 'copas'], ['J', 'ouros'], ['Q', 'paus']]\nPontuação: 25\nVoce estourou com 25 pontos\n\nDinheiro atual: R$0.0\nVocê começou com R$10.0 e terminou com R$0.0, sendo assim seu lucro foi de R$-10.0\n"
    }
   ],
   "source": [
    "dinheiro = float(input('Digite a quantidade total de dinheiro: '))\n",
    "dinheiro_inicial = dinheiro\n",
    "opcao = 1\n",
    "while opcao != 0 and dinheiro >= 0:\n",
    "    if opcao == 1:\n",
    "        aposta = float(input('Digite o valor da aposta: '))\n",
    "        while aposta > dinheiro:\n",
    "            aposta = float(input('Digite um valor de aposta menor ou igual ao seu dinheiro: '))\n",
    "            \n",
    "        deck = Deck()\n",
    "        dealer_hand = MaoJogador()\n",
    "        mao_jogador = MaoJogador()\n",
    "        \n",
    "        for i in range(2):\n",
    "            dealer_hand.adicionar_carta(deck.pop_carta())\n",
    "            mao_jogador.adicionar_carta(deck.pop_carta())\n",
    "            \n",
    "        print(f'O Coupier tem a seguinte carta: {dealer_hand.get_cartas()[0]}')\n",
    "        print(f'Suas cartas são: {mao_jogador.get_cartas()}')\n",
    "        while opcao == 1:            \n",
    "            opcao = int(input('\\nO que deseja fazer?,\\n0 - Permanecer do modo que está,\\n1 - Pedir mais uma carta\\n2 - Desistir\\n'))\n",
    "            if opcao == 0:\n",
    "                print(f'\\nMão completa do Coupier: {dealer_hand.get_cartas()}')\n",
    "                dealer_hand_pontos = dealer_hand.calcular_pontos()\n",
    "                mao_jogador_pontos = mao_jogador.calcular_pontos()\n",
    "                if mao_jogador_pontos < dealer_hand_pontos:\n",
    "                    mensagem = 'Você perdeu, o'\n",
    "                    dinheiro -= aposta\n",
    "                elif mao_jogador_pontos > dealer_hand_pontos:\n",
    "                    mensagem = 'Você ganhou! O'\n",
    "                    dinheiro += aposta\n",
    "                else:\n",
    "                    mensagem = 'Empate. O'\n",
    "                print( mensagem, f'dealer tinha {dealer_hand_pontos} pontos e você tinha {mao_jogador_pontos} pontos')\n",
    "            elif opcao == 1:\n",
    "              mao_jogador.adicionar_carta(deck.pop_carta())\n",
    "              pontuacao = mao_jogador.calcular_pontos()\n",
    "              print(f'\\nSua mão: {mao_jogador.get_cartas()}')\n",
    "              print(f'Pontuação: {pontuacao}')\n",
    "              if pontuacao > 21:\n",
    "                print(f'Voce estourou com {pontuacao} pontos')\n",
    "                dinheiro -= aposta\n",
    "                opcao = 0\n",
    "            elif opcao == 2:\n",
    "              dinheiro -= aposta/2         \n",
    "    elif opcao == 2:\n",
    "        dinheiro += float(input('Digite o valor que deseja apostar: '))\n",
    "        \n",
    "    print(f'\\nDinheiro atual: R${dinheiro}')\n",
    "    opcao = int(input('\\nO que deseja fazer?\\n1 - Jogar mais uma vez\\n2- Colocar mais dinheiro\\n0 - Sair\\n'))\n",
    "    \n",
    "                  \n",
    "                  \n",
    "                  \n",
    "print(f'Você começou com R${dinheiro_inicial} e terminou com R${dinheiro}, sendo assim seu lucro foi de R${dinheiro - dinheiro_inicial}')"
   ]
  },
  {
   "cell_type": "code",
   "execution_count": null,
   "metadata": {},
   "outputs": [],
   "source": []
  }
 ]
}