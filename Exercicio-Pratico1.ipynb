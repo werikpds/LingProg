{
 "cells": [
  {
   "cell_type": "markdown",
   "metadata": {},
   "source": [
    "## `1` - Faça um programa que peça o raio de um círculo, calcule e mostre sua área."
   ]
  },
  {
   "cell_type": "code",
   "execution_count": null,
   "metadata": {},
   "outputs": [],
   "source": [
    "print(\"Qual o raio do círculo?\")\n",
    "raio = int(input())\n",
    "area = raio*raio*3.14\n",
    "print(f'A area do círculo é {area}m²')"
   ]
  },
  {
   "cell_type": "markdown",
   "metadata": {},
   "source": [
    "## `2` - Faça um programa que calcule a área de um quadrado, em seguida mostre o dobro desta área para o usuário."
   ]
  },
  {
   "cell_type": "code",
   "execution_count": null,
   "metadata": {},
   "outputs": [],
   "source": [
    "print(\"Informe o lado do quadrado.\")\n",
    "area = (int(input())**2)*2\n",
    "print(f'O dobro da área do quadrado é igual a {area}m²')"
   ]
  },
  {
   "cell_type": "markdown",
   "metadata": {},
   "source": [
    "## `3` - Faça um programa que pergunte quanto você ganha por hora e o número de horas trabalhadas no mês. Calcule e mostre o total do seu salario referido ao mês."
   ]
  },
  {
   "cell_type": "code",
   "execution_count": null,
   "metadata": {},
   "outputs": [],
   "source": [
    "print(\"Qual o valor da sua hora de trabalho?\")\n",
    "salario_hora = float(input())\n",
    "print(\"Qual a quantidade de horas trabalhadas no mês?\")\n",
    "quantidade_de_horas = int(input())\n",
    "salario = salario_hora * quantidade_de_horas\n",
    "print(f'Sua renda mensal é de R${salario}')"
   ]
  },
  {
   "cell_type": "markdown",
   "metadata": {},
   "source": [
    "## `4` - Faça um programa que peça a temperatura em graus Farenheit, transforme e mostre em graus Celsius. C=(5*(F-32)/9)"
   ]
  },
  {
   "cell_type": "code",
   "execution_count": null,
   "metadata": {},
   "outputs": [],
   "source": [
    "print(\"Informe a temperatura em F?\")\n",
    "temperatura = round((5*(float(input())-32)/9), 2)\n",
    "print(f'A temperatura atual é de {temperatura}Cº')"
   ]
  },
  {
   "cell_type": "markdown",
   "metadata": {},
   "source": [
    "## `5` - Faça um programa que peça a temperatura em graus Celsius, transforme e mostre em graus Farenheit. F=(9*(C+32)/5)"
   ]
  },
  {
   "cell_type": "code",
   "execution_count": null,
   "metadata": {},
   "outputs": [],
   "source": [
    "print(\"Informe a temperatura em C?\")\n",
    "temperatura = round((5*(float(input())32)/9), 2)\n",
    "print(f'A temperatura atual é de {temperatura}Fº')"
   ]
  },
  {
   "cell_type": "markdown",
   "metadata": {},
   "source": [
    "## `6` - João Papo-de-Pescador, homem de bem, comprou um microcomputador para controlar o rendimento diario de seu trabalho. Toda vez que ele traz um peso de peixes maior que o estabelecido pelo regulamento de pesca do estado de São Paulo(50 quilos) deve pagar uma multa de RS 4,00 por quilo excedente. João precisa que você faça um programa que leia uma variável peso(peso de peixes) e verifique se há excesso. Se houver, gravar na variável excesso e na variável multa o valor da multa que João deverá pagar. Caso contrário mostrar tais variáveis com o conteúdo ZERO."
   ]
  },
  {
   "cell_type": "code",
   "execution_count": null,
   "metadata": {},
   "outputs": [],
   "source": [
    "print('Peso do peixe')\n",
    "peso = float(input())\n",
    "excesso = 0\n",
    "multa = 0\n",
    "if (peso > 50):\n",
    "    excesso = peso - 50\n",
    "    multa = 4 * excesso\n",
    "print(f'Excesso = {excesso}, multa = {multa}')"
   ]
  },
  {
   "cell_type": "markdown",
   "metadata": {},
   "source": [
    "## `8` - Faça um Programa que pergunte quanto você ganha por hora e o número de horas trabalhadas no mês. Calcule e mostre o total do seu salário no referido mês, sabendo-se que são descontados 11% para o Imposto de Renda, 8% para o INSS e 5% para o sindicato, faça um programa que nos dê:\n",
    "* salário bruto.\n",
    "* quanto pagou ao INSS.\n",
    "* quanto pagou ao sindicato.\n",
    "* o salário líquido.\n",
    "* calcule os descontos e o salário líquido, conforme a tabela abaixo:  \n",
    "<br>\n",
    "- Salário Bruto : RS  \n",
    "\n",
    "- IR (11%) : R$  \n",
    "\n",
    "- INSS (8%) : R$  \n",
    "\n",
    "- Sindicato ( 5%) : R$  \n",
    "\n",
    "- Salário Liquido : R$  \n",
    "\n",
    "Obs.: Salário Bruto - Descontos = Salário Líquido.  "
   ]
  },
  {
   "cell_type": "code",
   "execution_count": null,
   "metadata": {},
   "outputs": [],
   "source": [
    "print(\"Qual o valor da sua hora de trabalho?\")\n",
    "salario_hora = float(input())\n",
    "print(\"Qual a quantidade de horas trabalhadas no mês?\")\n",
    "quantidade_de_horas = int(input())\n",
    "salario_bruto = salario_hora * quantidade_de_horas\n",
    "ir = 0.11*salario_bruto\n",
    "inss = 0.08*salario_bruto\n",
    "sindicato = 0.05*salario_bruto\n",
    "salario_liquido = salario_bruto - (ir+inss+sindicato)\n",
    "msg = f\"\"\"\n",
    "- Salário Bruto : RS{salario_bruto}  \n",
    "\n",
    "- IR (11%) : R${ir}  \n",
    "\n",
    "- INSS (8%) : R${inss}  \n",
    "\n",
    "- Sindicato ( 5%) : R${sindicato}  \n",
    "\n",
    "- Salário Liquido : R${}  \n",
    "\"\"\"\n",
    "print(msg)"
   ]
  },
  {
   "cell_type": "markdown",
   "metadata": {},
   "source": [
    "## `9` - Faça um programa que leia 2 strings e informe o conteúdo delas seguido do seu comprimento. Informe também se as duas strings possuem o mesmo comprimento e são iguais ou diferentes no conteúdo.\n",
    "### Exemplo:\n",
    "\n",
    "* String 1: Brasil Hexa 2018\n",
    "* String 2: Brasil! Hexa 2018!\n",
    "* Tamanho de &quot;Brasil Hexa 2018&quot;: 16 caracteres\n",
    "* Tamanho de &quot;Brasil! Hexa 2018!&quot;: 18 caracteres\n",
    "* As duas strings são de tamanhos diferentes.\n",
    "* As duas strings possuem conteúdo diferente."
   ]
  },
  {
   "cell_type": "code",
   "execution_count": null,
   "metadata": {},
   "outputs": [],
   "source": [
    "print(\"Digite algo.\")\n",
    "string_1 = input()\n",
    "print(\"Digite algo.\")\n",
    "string_2 = input()\n",
    "print(f'O tamanho de {string_1} é: {len(string_1)}')\n",
    "print(f'O tamanho de {string_2} é: {len(string_2)}')\n",
    "if len(string_1) == len(string_2):\n",
    "    print(\"As duas strings são iguais.\")\n",
    "else:\n",
    "    print(\"As duas strings são de tamanhos diferentes.\")\n",
    "if string_1 == string_2:\n",
    "    print(\"O conteúdo das strings são iguais.\")\n",
    "else:\n",
    "    print(\"O conteúdo das strings são diferentes.\")"
   ]
  },
  {
   "cell_type": "markdown",
   "metadata": {},
   "source": [
    "## `10` - Faça um programa que permita ao usuário digitar o seu nome e em seguida mostre o nome do usuário de trás para frente utilizando somente letras maiúsculas.\n",
    "#### Dica: lembre−se que ao informar o nome o usuário pode digitar letras maiúsculas ou minúsculas. Observação: não use loops.\n"
   ]
  },
  {
   "cell_type": "code",
   "execution_count": null,
   "metadata": {},
   "outputs": [],
   "source": [
    "print(\"Digite seu nome.\")\n",
    "nome = input()\n",
    "nome = nome.lower()\n",
    "print(nome[::-1])"
   ]
  },
  {
   "cell_type": "markdown",
   "metadata": {},
   "source": [
    "## `11` - Faça um programa que solicite a data de nascimento (dd/mm/aaaa) do usuário e imprima a data com o nome do mês por extenso.\n",
    "#### Data de Nascimento: 29/10/1973\n",
    "#### Você nasceu em 29 de Outubro de 1973.\n",
    "##### Obs.: Não use desvio condicional nem loops."
   ]
  },
  {
   "cell_type": "code",
   "execution_count": null,
   "metadata": {},
   "outputs": [],
   "source": [
    "print(\"Informe sua data de nascimento (dd/mm/aaaa)\")\n",
    "nascimento = input(\"Data de nascimento é: \")\n",
    "mes = [\"janeiro\",\"fevereiro\",\"março\",\"abril\",\"maio\",\"junho\",\"julho\",\"agosto\",\"setembro\",\"outubro\",\"novembro\",\"dezembro\"]\n",
    "print(f\"Você nasceu em {nascimento[0:2]} de {mes[int(nascimento[3:5])-1]} de {nascimento[6:10]}\")"
   ]
  },
  {
   "cell_type": "markdown",
   "metadata": {},
   "source": [
    "## `12` - Leet é uma forma de se escrever o alfabeto latino usando outros símbolos em lugar das letras, como números por exemplo. A própria palavra leet admite muitas variações, como l33t ou 1337. O uso do leet reflete uma subcultura relacionada ao mundo dos jogos de computador e internet, sendo muito usada para confundir os iniciantes e afirmar-se como parte de um grupo. Pesquise sobre as principais formas de traduzir as letras. Depois, faça um programa que peça uma texto e transforme-o para a grafia leet speak.\n",
    "#### Desafio: não use loops nem desvios condicionais."
   ]
  },
  {
   "cell_type": "code",
   "execution_count": null,
   "metadata": {},
   "outputs": [],
   "source": [
    "trocas = ( ('a','4'), ('e','3'), ('l','1'), ('o','0'), ('t','+'), ('ão','aum'), ('i','y'), ('nh', 'ñ'))\n",
    "print(\"Digite algo.\")\n",
    "texto = input(\"Texto: \")\n",
    "novo_texto = texto\n",
    "for antigo, novo in trocas:\n",
    "    novo_texto = novo_texto.replace(antigo, novo)\n",
    "print ( novo_texto )"
   ]
  },
  {
   "cell_type": "code",
   "execution_count": null,
   "metadata": {},
   "outputs": [],
   "source": []
  }
 ],
 "metadata": {
  "kernelspec": {
   "display_name": "Python 3",
   "language": "python",
   "name": "python3"
  },
  "language_info": {
   "codemirror_mode": {
    "name": "ipython",
    "version": 3
   },
   "file_extension": ".py",
   "mimetype": "text/x-python",
   "name": "python",
   "nbconvert_exporter": "python",
   "pygments_lexer": "ipython3",
   "version": "3.8.2"
  }
 },
 "nbformat": 4,
 "nbformat_minor": 4
}
