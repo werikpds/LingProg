{
 "nbformat": 4,
 "nbformat_minor": 2,
 "metadata": {
  "language_info": {
   "name": "python",
   "codemirror_mode": {
    "name": "ipython",
    "version": 3
   },
   "version": "3.8.2-final"
  },
  "orig_nbformat": 2,
  "file_extension": ".py",
  "mimetype": "text/x-python",
  "name": "python",
  "npconvert_exporter": "python",
  "pygments_lexer": "ipython3",
  "version": 3,
  "kernelspec": {
   "name": "python38232bitbe866cc4fecd40fcad3fbddef730d377",
   "display_name": "Python 3.8.2 32-bit"
  }
 },
 "cells": [
  {
   "cell_type": "markdown",
   "metadata": {},
   "source": [
    "`1` Defina a função soma_nat que recebe como argumento um número natural n e devolve a soma de todos os números naturais até n.  \n",
    "  \n",
    "Ex: soma_nat(5) = 15  "
   ]
  },
  {
   "cell_type": "code",
   "execution_count": 7,
   "metadata": {},
   "outputs": [
    {
     "output_type": "stream",
     "name": "stdout",
     "text": "Fatorial de 5 é 15\n"
    }
   ],
   "source": [
    "soma_nat = lambda n: 1 if n == 1 else n + soma_nat(n-1)\n",
    "\n",
    "print('Fatorial de 5 é',soma_nat(5))\n",
    "\n",
    "assert(soma_nat(5) == 15)\n",
    "assert(soma_nat(4) == 10)\n",
    "assert(soma_nat(3) == 6)"
   ]
  },
  {
   "cell_type": "markdown",
   "metadata": {},
   "source": [
    "`2` Defina a função div que recebe como argumentos dois números naturais m e n e devolve o resultado da divisão inteira de m por n. Neste exercício você não pode recorrer às operações aritméticas de multiplicação, divisão e resto da divisão inteira.  \n",
    "  \n",
    "Ex: div(7,2) = 3"
   ]
  },
  {
   "cell_type": "code",
   "execution_count": 9,
   "metadata": {},
   "outputs": [
    {
     "output_type": "stream",
     "name": "stdout",
     "text": "Quociente da divisão entre 7 e 2 é igual a 3\n"
    }
   ],
   "source": [
    "div = lambda m, n: 0 if m < n else 1 + div(m - n, n)\n",
    "\n",
    "print('Quociente da divisão entre 7 e 2 é igual a',div(7,2))\n",
    "\n",
    "assert(div(7,2) == 3)\n",
    "assert(div(12,3) == 4)\n",
    "assert(div(2,1) == 2)"
   ]
  },
  {
   "cell_type": "markdown",
   "metadata": {},
   "source": [
    "`3` Defina a função prim_alg que recebe como argumento um número natural e devolve o primeiro algarismo (o mais significativo) na representação decimal de n.  \n",
    "  \n",
    "Ex: prim_alg(5649) = 5  \n",
    "Ex: prim_alg(7) = 7"
   ]
  },
  {
   "cell_type": "code",
   "execution_count": 11,
   "metadata": {},
   "outputs": [
    {
     "output_type": "stream",
     "name": "stdout",
     "text": "O primeiro algarismo de 78069 é 7\n"
    }
   ],
   "source": [
    "prim_alg = lambda n: prim_alg(n/10) if n >= 10 else int(n)\n",
    "\n",
    "print('O primeiro algarismo de 78069 é',prim_alg(78069))\n",
    "\n",
    "assert(prim_alg(5649) == 5)\n",
    "assert(prim_alg(7) == 7)\n",
    "assert(prim_alg(100) == 1)\n",
    "assert(prim_alg(23) == 2)"
   ]
  },
  {
   "cell_type": "markdown",
   "metadata": {},
   "source": [
    "`4` Defina a função prod_lista que recebe como argumento uma lista de inteiros e devolve o produto dos seus elementos.  \n",
    "  \n",
    "Ex: prod_lista([1,2,3,4,5,6]) = 720"
   ]
  },
  {
   "cell_type": "code",
   "execution_count": 15,
   "metadata": {},
   "outputs": [
    {
     "output_type": "stream",
     "name": "stdout",
     "text": "O produto da lista [1,2,3,4,5,6,7] é igual a 5040\n"
    }
   ],
   "source": [
    "prod_lista = lambda lista: 1 if len(lista) == 0 else lista[len(lista)-1] * prod_lista(lista[:-1])\n",
    "\n",
    "print('O produto da lista [1,2,3,4,5,6,7] é igual a',prod_lista([1,2,3,4,5,6,7]))\n",
    "\n",
    "assert(prod_lista([1,2,3,4,5,6]) == 720)\n",
    "assert(prod_lista([1,2,3]) == 6)\n",
    "assert(prod_lista([4,5,6]) == 120)"
   ]
  },
  {
   "cell_type": "markdown",
   "metadata": {},
   "source": [
    "`5` Defina a função contem_parQ que recebe como argumento uma lista de números inteiros w e devolve True se w contém um número par e False em caso contrário.  \n",
    "  \n",
    "Ex: contem_parQ([2,3,1,2,3,4]) = True  \n",
    "Ex: contem_parQ([1,3,5,7]) = False"
   ]
  },
  {
   "cell_type": "code",
   "execution_count": 34,
   "metadata": {},
   "outputs": [
    {
     "output_type": "stream",
     "name": "stdout",
     "text": "A lista [2,3,1,2,3,4] possui par? True\n"
    }
   ],
   "source": [
    "contem_parQ = lambda w: False if len(w) == 0 or (not w[len(w) - 1] % 2 == 0 and not contem_parQ(w[:-1])) else True\n",
    "\n",
    "print('A lista [2,3,1,2,3,4] possui par?',contem_parQ([2,3,1,2,3,4]))\n",
    "\n",
    "assert(contem_parQ([2,3,1,2,3,4]) == True)\n",
    "assert(contem_parQ([1,3,5,7]) == False)\n",
    "assert(contem_parQ([1,3,5,7,2]) == True)\n",
    "assert(contem_parQ([2,4,6,8]) == True)"
   ]
  },
  {
   "cell_type": "markdown",
   "metadata": {},
   "source": [
    "`6` Defina a função todos_imparesQ que recebe como argumento uma lista de números inteiros w e devolve True se w contém apenas números ímpares e False\n",
    "em caso contrário.  \n",
    "  \n",
    "Ex: todos_imparesQ([1,3,5,7]) = True  \n",
    "Ex: todos_imparesQ([]) = True  \n",
    "Ex: todos_imparesQ([1,2,3,4,5]) = False"
   ]
  },
  {
   "cell_type": "code",
   "execution_count": 38,
   "metadata": {},
   "outputs": [
    {
     "output_type": "stream",
     "name": "stdout",
     "text": "A lista [1,3,5,7] possui impares? True\n"
    }
   ],
   "source": [
    "todos_imparesQ = lambda w: True if len(w) == 0 or (w[len(w) - 1] % 2 != 0 and todos_imparesQ(w[:-1])) else False\n",
    "\n",
    "print('A lista [1,3,5,7] possui impares?',todos_imparesQ([1,3,5,7]))\n",
    "\n",
    "assert(todos_imparesQ([1,3,5,7]) == True)\n",
    "assert(todos_imparesQ([]) == True)\n",
    "assert(todos_imparesQ([1,2,3,4,5]) == False)"
   ]
  },
  {
   "cell_type": "markdown",
   "metadata": {},
   "source": [
    "`7` Defina a função pertenceQ que recebe como argumentos uma lista de números inteiros w e um número inteiro n e devolve True se n ocorre em w e False em caso contrário.  \n",
    "\n",
    "Ex: pertenceQ([1,2,3],1) = True  \n",
    "Ex: pertenceQ([1,2,3],2) = True  \n",
    "Ex: pertenceQ([1,2,3],3) = True  \n",
    "Ex: pertenceQ([1,2,3],4) = False"
   ]
  },
  {
   "cell_type": "code",
   "execution_count": 40,
   "metadata": {},
   "outputs": [
    {
     "output_type": "stream",
     "name": "stdout",
     "text": "A lista [1,2,3] possui 1? True\n"
    }
   ],
   "source": [
    "pertenceQ = lambda w, n: False if len(w) == 0 or (not w[len(w) - 1] == n and not pertenceQ(w[:-1], n)) else True\n",
    "\n",
    "print('A lista [1,2,3] possui 1?',pertenceQ([1,2,3],1))\n",
    "\n",
    "assert(pertenceQ([1,2,3],1) == True)\n",
    "assert(pertenceQ([1,2,3],2) == True)\n",
    "assert(pertenceQ([1,2,3],3) == True)\n",
    "assert(pertenceQ([1,2,3],4) == False)\n",
    "assert(pertenceQ([4,5,6],4) == True)\n",
    "assert(pertenceQ([8,9,10],4) == False)"
   ]
  },
  {
   "cell_type": "markdown",
   "metadata": {},
   "source": [
    "`8` Defina a função junta que recebe como argumentos duas listas de números inteiros w1 e w2 e devolve a concatenação de w1 com w2.  \n",
    "  \n",
    "Ex: junta([1,2,3],[4,5,6]) = [1, 2, 3, 4, 5, 6]  \n",
    "Ex: junta([],[4,5,6]) = [4, 5, 6]  \n",
    "Ex: junta([1,2,3],[]) = [1, 2, 3]  "
   ]
  },
  {
   "cell_type": "code",
   "execution_count": 41,
   "metadata": {},
   "outputs": [
    {
     "output_type": "stream",
     "name": "stdout",
     "text": "As listas [1,2,3] e [4,5,6] juntas equivale a [1, 2, 3, 4, 5, 6]\n"
    }
   ],
   "source": [
    "junta = lambda w1, w2: w1 + junta(w2[0:1], w2[1:]) if len(w2) > 0 else w1 + w2\n",
    "\n",
    "print('As listas [1,2,3] e [4,5,6] juntas equivale a',junta([1,2,3],[4,5,6]))\n",
    "\n",
    "assert(junta([1,2,3],[4,5,6]) == [1, 2, 3, 4, 5, 6])\n",
    "assert(junta([],[4,5,6]) == [4, 5, 6])\n",
    "assert(junta([1,2,3],[]) == [1, 2, 3])\n",
    "assert(junta([1,2,3],[1,2,3]) == [1, 2, 3, 1, 2, 3])"
   ]
  },
  {
   "cell_type": "markdown",
   "metadata": {},
   "source": [
    "`9` Defina a função temPrimoQ que recebe como argumento uma lista de listas de números inteiros w e devolve True se alguma das sublistas w tem um número primo e False em caso contrário.  \n",
    "  \n",
    "Ex: temPrimoQ([[4,4,4,4],[5,4,6,7],[2,4,3]]) = True  \n",
    "Ex: temPrimoQ([[4,4,4,4],[4,4,4],[],[4]]) = False  "
   ]
  },
  {
   "cell_type": "code",
   "execution_count": 43,
   "metadata": {},
   "outputs": [
    {
     "output_type": "stream",
     "name": "stdout",
     "text": "A lista [[4,4,4,4],[5,4,6,7],[2,4,3]] tem primo? True\n"
    }
   ],
   "source": [
    "auxTemPrimoQ = lambda w: not(len(w) == 0 or(not((is_primo(w[0])) or w.pop() in [2,3,5,7,11]) and not auxTemPrimoQ(w)))\n",
    "\n",
    "temPrimoQ = lambda w: not(len(w) == 0 or (not(auxTemPrimoQ(w.pop())) and not temPrimoQ(w)))\n",
    "\n",
    "is_primo = lambda n, k=1: True if (n % k + 1) != True and is_primo(n, k) == True and n != k else False\n",
    "\n",
    "print('A lista [[4,4,4,4],[5,4,6,7],[2,4,3]] tem primo?',temPrimoQ([[4,4,4,4],[5,4,6,7],[2,4,3]]))\n",
    "\n",
    "assert(temPrimoQ([[4,4,4,4],[5,4,6,7],[2,4,3]]) == True)\n",
    "assert(temPrimoQ([[4,4,4,4],[4,4,4],[],[4]]) == False)\n",
    "assert(temPrimoQ([[4,4,4,4],[6,7,5,7],[1,1,1]]) == True)\n",
    "assert(temPrimoQ([[4,4,4,4],[4,4,4],[4,4],[4]]) == False)"
   ]
  },
  {
   "cell_type": "markdown",
   "metadata": {},
   "source": [
    "`10` Defina a função inverteLista que recebe como argumento uma lista w e devolve a mesma lista mas invertida.\n",
    "Ex: inverteLista([1,2,3,4,5]) = [5, 4, 3, 2, 1]\n",
    "Ex: inverteLista([])"
   ]
  },
  {
   "cell_type": "code",
   "execution_count": 44,
   "metadata": {},
   "outputs": [
    {
     "output_type": "stream",
     "name": "stdout",
     "text": "A lista [1,2,3,4,5] invertida é igual a [5, 4, 3, 2, 1]\n"
    }
   ],
   "source": [
    "inverteLista = lambda w: [] if len(w) == 0 else [w[len(w) - 1]] + (inverteLista(w[:-1]))\n",
    "\n",
    "print('A lista [1,2,3,4,5] invertida é igual a',inverteLista([1,2,3,4,5]))\n",
    "\n",
    "\n",
    "assert(inverteLista([1,2,3,4,5]) == [5, 4, 3, 2, 1])\n",
    "assert(inverteLista([]) == [])\n",
    "assert(inverteLista([5,4,3,2,1]) == [1, 2, 3, 4, 5])\n",
    "assert(inverteLista([73,146,219]) == [219, 146, 73])"
   ]
  }
 ]
}