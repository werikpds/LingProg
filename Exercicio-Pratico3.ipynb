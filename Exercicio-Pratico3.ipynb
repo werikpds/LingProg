{
 "cells": [
  {
   "cell_type": "markdown",
   "metadata": {},
   "source": [
    "1 - Faça um Programa que peça dois números e imprima o maior deles."
   ]
  },
  {
   "cell_type": "code",
   "execution_count": 31,
   "metadata": {},
   "outputs": [
    {
     "name": "stdout",
     "output_type": "stream",
     "text": [
      "Digite um valor: 15\n",
      "Digite outro valor:15\n",
      "Os valores são iguais!\n"
     ]
    }
   ],
   "source": [
    "n1 = input( \"Digite um valor: \" )\n",
    "n2 = input( \"Digite outro valor:\" )\n",
    "if ( n1>n2 ):\n",
    "    print( \"MAIOR VALOR: \", n1 )\n",
    "elif ( n2>n1 ):\n",
    "    print( \"MAIOR VALOR: \", n2 )\n",
    "else:\n",
    "    print( \"VALORES IGUAIS!\" )"
   ]
  },
  {
   "cell_type": "markdown",
   "metadata": {},
   "source": [
    "2 - Faça um Programa que verifique se uma letra digitada é vogal ou consoante."
   ]
  },
  {
   "cell_type": "code",
   "execution_count": null,
   "metadata": {},
   "outputs": [],
   "source": [
    "lt = input( \"Digite uma letra a seguir: \" )\n",
    "if( lt.lower(  ) in ['a', 'e', 'i', 'o', 'u'] ):\n",
    "    print( \"A letra é vogal\" )\n",
    "elif( lt.lower(  ) in ['á', 'à', 'ã', 'â', 'ä', 'é', 'è', 'ê', 'ë', 'í', 'ì', 'î', 'ï', 'ó', 'ò', 'ô', 'õ', 'ö', 'ú', 'ù', 'û', 'ü'] ):\n",
    "    print(  \"É vogal com acento\" )\n",
    "else:\n",
    "    print( \"A letra é consoante\" )"
   ]
  },
  {
   "cell_type": "markdown",
   "metadata": {},
   "source": [
    "3 - Faça um programa para a leitura de duas notas parciais de um aluno. O programa deve calcular a média alcançada por aluno e apresentar:\n",
    "- A mensagem \"Aprovado\", se a média alcançada for maior ou igual a sete;\n",
    "- A mensagem \"Reprovado\", se a média for menor do que sete;\n",
    "- A mensagem \"Aprovado com Distinção\", se a média for igual a dez."
   ]
  },
  {
   "cell_type": "code",
   "execution_count": null,
   "metadata": {},
   "outputs": [],
   "source": [
    "n1 = float( input( \"Digite sua primeira nota: \" ) )\n",
    "n2 = float( input( \"Digite sua segunda nota: \" ) )\n",
    "media = ( n1+n2 )/2\n",
    "if media<7:\n",
    "    print( \"Reprovado: \", media )\n",
    "else:\n",
    "    if media==10:\n",
    "        print( \"Aprovado com Distinção: \", media )\n",
    "    else:\n",
    "        print( \"Aprovado: \", media )"
   ]
  },
  {
   "cell_type": "markdown",
   "metadata": {},
   "source": [
    "4 - Faça um Programa que leia três números e mostre-os em ordem decrescente."
   ]
  },
  {
   "cell_type": "code",
   "execution_count": null,
   "metadata": {},
   "outputs": [],
   "source": [
    "n1 = float( input( \"Digite um número: \" ) )\n",
    "n2 = float( input( \"Digite outro número: \" ) )\n",
    "n3 = float( input( \"Digite um terceiro número: \" ) )\n",
    "lista = [n1, n2, n3]\n",
    "s_list = sorted( lista, reverse=True )\n",
    "print( \"Os números na sequência ficam: \", s_list )"
   ]
  },
  {
   "cell_type": "markdown",
   "metadata": {},
   "source": [
    "5 - As Organizações Tabajara resolveram dar um aumento de salário aos seus colaboradores e lhe contrataram para desenvolver o programa que calculará os reajustes.\n",
    "Faça um programa que recebe o salário de um colaborador e o reajuste segundo o seguinte critério, baseado no salário atual:\n",
    "- salários até R$ 280,00 (incluindo) : aumento de 20%\n",
    "- salários entre R$ 280,00 e R$ 700,00 : aumento de 15%\n",
    "- salários entre R$ 700,00 e R$ 1500,00 : aumento de 10%\n",
    "- salários de R$ 1500,00 em diante : aumento de 5% Após o aumento ser realizado, informe na tela:\n",
    "- o salário antes do reajuste;\n",
    "- o percentual de aumento aplicado;\n",
    "- o valor do aumento;\n",
    "- o novo salário, após o aumento."
   ]
  },
  {
   "cell_type": "code",
   "execution_count": null,
   "metadata": {},
   "outputs": [],
   "source": [
    "salario = float( input( \"Informe o salário do funcionário: \" ) )\n",
    "percentual = 0.0\n",
    "if( salario <= 280 ):\n",
    "    salario_reajustado = salario + ( salario*20/100 )\n",
    "    percentual = 20\n",
    "else:\n",
    "    if( salario <= 700 ):\n",
    "        salario_reajustado = salario + ( salario*15/100 )\n",
    "        percentual = 15\n",
    "    else:\n",
    "        if( salario <= 1500 ):\n",
    "            salario_reajustado = salario + ( salario*10/100 )\n",
    "            percentual = 10\n",
    "        else:\n",
    "            salario_reajustado = salario + ( salario*5/100 )\n",
    "            percentual = 5\n",
    "print( f\"O salário antes do reajuste era: {salario:.2f}\\nO percentual aplicado foi de: {percentual:.2f}%\\nO aumento foi de {salario_reajustado-salario:.2f}\\nO novo salário é: {salario_reajustado:.2f}\" )"
   ]
  },
  {
   "cell_type": "markdown",
   "metadata": {},
   "source": [
    "6 - Faça um Programa que leia um número e exiba o dia correspondente da semana. (1-Domingo, 2- Segunda, etc.), se digitar outro valor deve aparecer valor inválido."
   ]
  },
  {
   "cell_type": "code",
   "execution_count": null,
   "metadata": {},
   "outputs": [],
   "source": [
    "dici = {'1':'Domingo', '2':'Segunda', '3':'Terça', '4':'Quarta', '5':'Quinta', '6':'Sexta', '7':'Sábado'}\n",
    "day = int( input( \"Digite um número da semana: \" ) )\n",
    "if ( day>0 and day<=7 ):\n",
    "    print( dici[str( day )] )\n",
    "else:\n",
    "    print( \"Número inválido\" )"
   ]
  },
  {
   "cell_type": "markdown",
   "metadata": {},
   "source": [
    "7 - Faça um programa que lê as duas notas parciais obtidas por um aluno numa disciplina ao longo de um semestre, e calcule a sua média. A atribuição de conceitos obedece à tabela abaixo:\n",
    "  Média de Aproveitamento  Conceito\n",
    "  Entre 9.0 e 10.0        A\n",
    "  Entre 7.5 e 9.0         B\n",
    "  Entre 6.0 e 7.5         C\n",
    "  Entre 4.0 e 6.0         D\n",
    "  Entre 4.0 e zero        E\n",
    "O algoritmo deve mostrar na tela as notas, a média, o conceito correspondente e a mensagem “APROVADO” se o conceito for A, B ou C ou “REPROVADO” se o conceito for D ou E."
   ]
  },
  {
   "cell_type": "code",
   "execution_count": null,
   "metadata": {},
   "outputs": [],
   "source": [
    "n1 = float( input( \"Digite a primeira nota: \" ) )\n",
    "n2 = float( input( \"Digite a segunda nota: \" ) )\n",
    "media = ( n1+n2 )/2\n",
    "nota = ''\n",
    "status = ''\n",
    "if ( media >= 9 and media <= 10 ):\n",
    "    nota = 'A'\n",
    "else:\n",
    "    if ( media >= 7.5 and media < 9 ):\n",
    "        nota = 'B'\n",
    "    else:\n",
    "        if ( media >= 6 ):\n",
    "            nota  = 'C'\n",
    "        else:\n",
    "            if ( media >= 4 ):\n",
    "                nota = 'D'\n",
    "            else:\n",
    "                if ( media <4 and media >= 0 ):\n",
    "                    nota = 'E'\n",
    "if ( nota == 'A' or nota == 'B' or nota == 'C' ):\n",
    "    status = 'APROVADO'\n",
    "else:\n",
    "    status = 'REPROVADO'\n",
    "print ( f\"{status} com conceito {nota}\" )"
   ]
  },
  {
   "cell_type": "markdown",
   "metadata": {},
   "source": [
    "8 - Faça um Programa que peça os 3 lados de um triângulo. O programa deverá informar se os valores podem ser um triângulo. Indique, caso os lados formem um triângulo, se o mesmo é: equilátero, isósceles ou escaleno.\n",
    "Dicas:\n",
    "- Três lados formam um triângulo quando a soma de quaisquer dois lados for maior que o terceiro;\n",
    "- Triângulo Equilátero: três lados iguais;\n",
    "- Triângulo Isósceles: quaisquer dois lados iguais;\n",
    "- Triângulo Escaleno: três lados diferentes;"
   ]
  },
  {
   "cell_type": "code",
   "execution_count": null,
   "metadata": {},
   "outputs": [],
   "source": [
    "a = float( input( \"Digite um lado do triângulo: \" ) )\n",
    "b = float( input( \"Digite outro lado do triângulo: \" ) )\n",
    "c = float( input( \"Digite o terceiro lado do triângulo: \" ) )\n",
    "if ( b-c < a and a < b+c ):\n",
    "    if ( a-c < b and b <a+c ):\n",
    "        if ( a-b < c < a+b ):\n",
    "            if ( a == b and b == c ):\n",
    "                print( \"É um triângulo Equilátero\" )\n",
    "            elif ( a == b or a == c or b == c ):\n",
    "                print( \"É um triângulo Isóscceles\" )\n",
    "            else:\n",
    "                print( \"É um triângulo Escaleno\" )\n",
    "        else:\n",
    "            print( \"Não é um triângulo\" )\n",
    "else:\n",
    "    print( \"Não é um triângulo\" )"
   ]
  },
  {
   "cell_type": "markdown",
   "metadata": {},
   "source": [
    "9 - Faça um programa que calcule as raízes de uma equação do segundo grau, na forma ax2 + bx + c. O programa deverá pedir os valores de a, b e c e fazer as consistências, informando ao usuário nas seguintes situações:\n",
    "- Se o usuário informar o valor de A igual a zero, a equação não é do segundo grau e o programa não deve fazer pedir os demais valores, sendo encerrado;\n",
    "- Se o delta calculado for negativo, a equação não possui raizes reais. Informe ao usuário e encerre o programa;\n",
    "- Se o delta calculado for igual a zero a equação possui apenas uma raiz real; informe-a ao usuário;\n",
    "- Se o delta for positivo, a equação possui duas raiz reais; informe-as ao usuário;"
   ]
  },
  {
   "cell_type": "code",
   "execution_count": null,
   "metadata": {},
   "outputs": [],
   "source": [
    "import sys\n",
    "delta = 0\n",
    "a = float( input( \"Digite o valor de A: \" ) )\n",
    "if( a == 0 ):\n",
    "    print( \"A equação não é de segundo grau\" )\n",
    "    sys.exit( \"A equação não é de segundo grau\" )\n",
    "else:\n",
    "    b = float( input( \"Digite o valor de B: \" ) )\n",
    "    c = float( input( \"Digite o valor de C: \" ) )\n",
    "delta = b**2 - 4*a*c\n",
    "x1 = ( -b + delta**( 1/2 ) ) / ( 2*a )\n",
    "x2 = ( -b - delta**( 1/2 ) ) / ( 2*a )\n",
    "if( delta < 0 ):\n",
    "    print( \"A equação não possui raízes reais\" )\n",
    "    sys.exit( \"A equação não possui raízes reais\" )\n",
    "elif( delta == 0 ):\n",
    "    print( f\"A equação possui apenas um raiz real: {x1:.2f}\" )\n",
    "else:\n",
    "    print( f\"A equação possui duas raízes reais, x1 = {x1} e x2 = {x2}\" )"
   ]
  },
  {
   "cell_type": "markdown",
   "metadata": {},
   "source": [
    "10 - Faça um Programa para um caixa eletrônico. O programa deverá perguntar ao usuário o valor do saque e depois informar quantas notas de cada valor serão fornecidas. As notas disponíveis serão as de 1, 5, 10, 50 e 100 reais. O valor mínimo é de 10 reais e o máximo de 600 reais. O programa não deve se preocupar com a quantidade de notas existentes na máquina.\n",
    "- Exemplo 1: Para sacar a quantia de 256 reais, o programa fornece duas notas de 100, uma nota de 50, uma nota de 5 e uma nota de 1;\n",
    "- Exemplo 2: Para sacar a quantia de 399 reais, o programa fornece três notas de 100, uma nota de 50, quatro notas de 10, uma nota de 5 e quatro notas de 1."
   ]
  },
  {
   "cell_type": "code",
   "execution_count": null,
   "metadata": {},
   "outputs": [],
   "source": [
    "saque = float( input( \"Digite um valor de saque, mínimo R$ 10.00, máximo R$ 600.00: \" ) )\n",
    "restante = saque\n",
    "n1 = 0\n",
    "n5 = 0\n",
    "n10 = 0\n",
    "n50 = 0\n",
    "n100 = 0\n",
    "if ( saque < 10 or saque > 600 ):\n",
    "    sys.exit( \"O valor não está dentro do máximo ou mínimo estipulado\" )\n",
    "else:\n",
    "    while( restante>=100 ):\n",
    "        n100+=1\n",
    "        restante-=100\n",
    "    while( restante>=50 ):\n",
    "        n50+=1\n",
    "        restante-=50\n",
    "    while( restante>=10 ):\n",
    "        n10+=1\n",
    "        restante-=10\n",
    "    while( restante>=5 ):\n",
    "        n5+=1\n",
    "        restante-=5\n",
    "    while( restante>=1 ):\n",
    "        n1+=1\n",
    "        restante-=1\n",
    "print( f\"Serão fornecidas para o sauqe total de: {saque:.2f}\\n{n100} nota( s ) de R$100,00\\n{n50} nota( s ) de R$50,00\\n{n10} nota( s ) de R$10,00\\n{n50} nota( s ) de R$5,00\\n{n1} nota( s ) de R$1,00\" )"
   ]
  },
  {
   "cell_type": "markdown",
   "metadata": {},
   "source": [
    "11 - Faça um programa que faça 5 perguntas para uma pessoa sobre um crime. As perguntas são:\n",
    "\"Telefonou para a vítima?\"\n",
    "\"Esteve no local do crime?\"\n",
    "\"Mora perto da vítima?\"\n",
    "\"Devia para a vítima?\"\n",
    "\"Já trabalhou com a vítima?\" \n",
    "O programa deve no final emitir uma classificação sobre a participação da pessoa no crime. Se a pessoa responder positivamente a 2 questões ela deve ser classificada como \"Suspeita\", entre 3 e 4 como \"Cúmplice\" e 5 como \"Assassino\". Caso contrário, ele será classificado como \"Inocente\"."
   ]
  },
  {
   "cell_type": "code",
   "execution_count": 14,
   "metadata": {},
   "outputs": [
    {
     "name": "stdout",
     "output_type": "stream",
     "text": [
      "Responda 's' para SIM e 'n' para NÃO para as próximas perguntas\n",
      "\n",
      "Telefonou para a vítima? n\n",
      "Esteve no local do crime? s\n",
      "Mora perto da vítima? n\n",
      "Devia para a vítima? s\n",
      "Já trabalhou com a vítima? s\n",
      "Cúmplice\n"
     ]
    }
   ],
   "source": [
    "import sys\n",
    "perguntas = {\n",
    "    '1': 'Telefonou para a vítima? ',\n",
    "    '2': 'Esteve no local do crime? ',\n",
    "    '3': 'Mora perto da vítima? ',\n",
    "    '4': 'Devia para a vítima? ',\n",
    "    '5': 'Já trabalhou com a vítima? '\n",
    "}\n",
    "r = ''\n",
    "respostas = []\n",
    "qtde = 0\n",
    "print( \"Responda 's' para SIM e 'n' para NÃO para as próximas perguntas\\n\" )\n",
    "for x,y in perguntas.items(  ):\n",
    "    r = input( y )\n",
    "    if( r == 's' or r == 'n' ):\n",
    "        respostas += [r]\n",
    "    else:\n",
    "        sys.exit( \"Só é aceito s ou n\" )\n",
    "for x in respostas:\n",
    "    if( x=='s' ):\n",
    "        qtde += 1\n",
    "if( qtde == 2 ):\n",
    "    print( \"Suspeita\" )\n",
    "elif( qtde == 3 or qtde == 4 ):\n",
    "    print( \"Cúmplice\" )\n",
    "elif( qtde == 5 ):\n",
    "    print( \"Assassino\" )\n",
    "else:\n",
    "    print( \"Inocente\" )"
   ]
  },
  {
   "cell_type": "markdown",
   "metadata": {},
   "source": [
    "12 - Uma fruteira está vendendo frutas com a seguinte tabela de preços:\n",
    "\n",
    "                      Até 5 Kg           Acima de 5 Kg\n",
    "Morango         R$ 2,50 por Kg          R$ 2,20 por Kg\n",
    "Maçã            R$ 1,80 por Kg          R$ 1,50 por Kg\n",
    "\n",
    "Se o cliente comprar mais de 8 Kg em frutas ou o valor total da compra ultrapassar R$ 25,00, receberá ainda um desconto de 10% sobre este total. Escreva um algoritmo para ler a quantidade (em Kg) de morangos e a quantidade (em Kg) de maças adquiridas e escreva o valor a ser pago pelo cliente."
   ]
  },
  {
   "cell_type": "code",
   "execution_count": null,
   "metadata": {},
   "outputs": [],
   "source": [
    "morango = float( input( \"Digite quantos Kg de MORANGO deseja: \" ) )\n",
    "maca = float( input( \"Digite quantos Kg de MAÇÃ deseja: \" ) )\n",
    "v_morango = 0.0\n",
    "v_maca = 0.0\n",
    "if( morango <= 5 ):\n",
    "    v_morango = morango*2.5\n",
    "else:\n",
    "    v_morango = morango*2.2\n",
    "    if( morango >= 8 or v_morango >= 25 ):\n",
    "        v_morango = v_morango - ( 10/100 * v_morango )\n",
    "if( maca <= 5 ):\n",
    "    v_maca = maca*1.8\n",
    "else:\n",
    "    v_maca = maca*1.5\n",
    "    if( maca >= 8 or v_maca >= 25 ):\n",
    "        v_maca = v_maca - ( 10/100 * v_maca )\n",
    "print( f\"O valor do Morango é: R$ {v_morango:.2f}\\nO valor da Maçã é: R$ {v_maca:.2f}\" )"
   ]
  },
  {
   "cell_type": "markdown",
   "metadata": {},
   "source": [
    "13 - Faça um programa que peça uma nota, entre zero e dez. Mostre uma mensagem caso o valor seja inválido e continue pedindo até que o usuário informe um valor válido."
   ]
  },
  {
   "cell_type": "code",
   "execution_count": 7,
   "metadata": {
    "scrolled": true
   },
   "outputs": [
    {
     "name": "stdout",
     "output_type": "stream",
     "text": [
      "Digite uma nota entre 0 e 10: 5\n",
      "Valor válido 5.0\n"
     ]
    }
   ],
   "source": [
    "nota = float( input( \"Digite uma nota entre 0 e 10: \" ) )\n",
    "while( nota < 0 or nota > 10 ):\n",
    "    nota = float( input( \"O valor é inválido, digite um novo valor: \" ) )\n",
    "print( \"Valor válido\", nota )"
   ]
  },
  {
   "cell_type": "raw",
   "metadata": {},
   "source": [
    "13 - Faça um programa que leia e valide as seguintes informações:\n",
    "Nome: maior que 3 caracteres;\n",
    "Idade: entre 0 e 150;\n",
    "Salário: maior que zero;\n",
    "Sexo: 'f' ou 'm';\n",
    "Estado Civil: 's', 'c', 'v', 'd';"
   ]
  },
  {
   "cell_type": "code",
   "execution_count": 58,
   "metadata": {},
   "outputs": [
    {
     "name": "stdout",
     "output_type": "stream",
     "text": [
      "Digite um nome com mais de 3 caracteres: 3\n",
      "Digite uma idade entre 0 e 150 anos: 165\n",
      "DIgite um salário maior que R$ 0,00: -4\n",
      "Digite 'f' para sexo FEMININO e para 'm' para MASCULINO: a\n",
      "Digite 's' para 'SOLTEIRO(A)', 'c' para 'CASADO(A)', 'v' para 'VIÚVO(A)' ou 'd' para 'DIVORCIADO(A)'w\n",
      "O nome NÃO possui mais que 3 caracteres\n",
      "A idade NÃO está entre 0 e 150 anos\n",
      "O salário NÃO é maior que R$ 0.00\n",
      "Sexo não tem formato válido\n",
      "O Estado Civil não correponde a um valor válido\n"
     ]
    }
   ],
   "source": [
    "nome = input( \"Digite um nome com mais de 3 caracteres: \" )\n",
    "idade = int( input( \"Digite uma idade entre 0 e 150 anos: \" ) )\n",
    "salario = float( input( \"DIgite um salário maior que R$ 0,00: \" ) )\n",
    "sexo = input( \"Digite 'f' para sexo FEMININO e para 'm' para MASCULINO: \" )\n",
    "e_civil = input( \"Digite 's' para 'SOLTEIRO( A )', 'c' para 'CASADO( A )', 'v' para 'VIÚVO( A )' ou 'd' para 'DIVORCIADO( A )'\" )\n",
    "dici_civil = {\n",
    "    's': 'SOLTEIRO( A )',\n",
    "    'c': 'CASADO( A )',\n",
    "    'v': 'VIÚVO( A )',\n",
    "    'd': 'DIVORCIADO( A )'\n",
    "}\n",
    "if( len( nome ) > 3 ):\n",
    "    print( \"O nome possui mais que 3 caracteres\" )\n",
    "else:\n",
    "    print( \"O nome NÃO possui mais que 3 caracteres\" )\n",
    "if( idade >= 0 and idade <= 150 ):\n",
    "    print( \"A idade está entre 0 e 150 anos\" )\n",
    "else:\n",
    "    print( \"A idade NÃO está entre 0 e 150 anos\" )\n",
    "if( salario > 0 ):\n",
    "    print( \"O salário é maior que R$ 0.00\" )\n",
    "else:\n",
    "    print( \"O salário NÃO é maior que R$ 0.00\" )\n",
    "if( sexo == 'f' ):\n",
    "    print( \"Sexo feminino\" )\n",
    "elif( sexo == 'm' ):\n",
    "    print( \"Sexo masculino\" )\n",
    "else:\n",
    "    print( \"Sexo não tem formato válido\" )\n",
    "if( e_civil in dici_civil.keys(  ) ):\n",
    "    print( \"O Estado Civil selecionado é: \", dici_civil[e_civil] )\n",
    "else:\n",
    "    print( \"O Estado Civil não correponde a um valor válido\" )"
   ]
  },
  {
   "cell_type": "markdown",
   "metadata": {},
   "source": [
    "14 - Faça um programa que leia 5 números e informe o maior número."
   ]
  },
  {
   "cell_type": "code",
   "execution_count": 62,
   "metadata": {},
   "outputs": [
    {
     "name": "stdout",
     "output_type": "stream",
     "text": [
      "Digite um número: 8.2\n",
      "Digite um número: 9.7\n",
      "Digite um número: 4.56\n",
      "Digite um número: 9\n",
      "Digite um número: 2\n",
      "O maior número é  9.7\n"
     ]
    }
   ],
   "source": [
    "lista = []\n",
    "while(len(lista) < 5):\n",
    "    n = float(input(\"Digite um número: \"))\n",
    "    lista += [n]\n",
    "lista = sorted(lista, key=float)\n",
    "print(\"O maior número é \", lista[4])"
   ]
  },
  {
   "cell_type": "markdown",
   "metadata": {},
   "source": [
    "15 - Faça um programa que leia 5 números e informe a soma e a média dos números."
   ]
  },
  {
   "cell_type": "code",
   "execution_count": 63,
   "metadata": {},
   "outputs": [
    {
     "name": "stdout",
     "output_type": "stream",
     "text": [
      "Digite um número: 4\n",
      "Digite um número: 8\n",
      "Digite um número: 9.5\n",
      "Digite um número: 4.2\n",
      "Digite um número: 6.8\n",
      "A soma é = 32.5\n",
      "A média é = 6.5\n"
     ]
    }
   ],
   "source": [
    "lista = []\n",
    "soma = 0.0\n",
    "media = 0.0\n",
    "while(len(lista) < 5):\n",
    "    n = float(input(\"Digite um número: \"))\n",
    "    soma += n\n",
    "    lista += [n]\n",
    "media = soma / 5\n",
    "print(f\"A soma é = {soma}\\nA média é = {media}\")"
   ]
  },
  {
   "cell_type": "markdown",
   "metadata": {},
   "source": [
    "16 - Faça um programa que imprima na tela apenas os números ímpares entre 1 e 50."
   ]
  },
  {
   "cell_type": "code",
   "execution_count": 16,
   "metadata": {},
   "outputs": [
    {
     "name": "stdout",
     "output_type": "stream",
     "text": [
      "[1, 3, 5, 7, 9, 11, 13, 15, 17, 19, 21, 23, 25, 27, 29, 31, 33, 35, 37, 39, 41, 43, 45, 47, 49]\n"
     ]
    }
   ],
   "source": [
    "lista = [x for x in range(1,51) if x%2!=0]\n",
    "print(lista)"
   ]
  },
  {
   "cell_type": "markdown",
   "metadata": {},
   "source": [
    "17 - Desenvolva um gerador de tabuada, capaz de gerar a tabuada de qualquer número inteiro entre 1 a 10. O usuário deve informar de qual numero ele deseja ver a tabuada. A saída deve ser conforme o exemplo abaixo:\n",
    "Tabuada de 5:\n",
    "5 X 1 = 5\n",
    "5 X 2 = 10\n",
    "...\n",
    "5 X 10 = 50"
   ]
  },
  {
   "cell_type": "code",
   "execution_count": 73,
   "metadata": {},
   "outputs": [
    {
     "name": "stdout",
     "output_type": "stream",
     "text": [
      "Digite um número para visualizar sua tabuada4\n",
      "4 X 1 = 4\n",
      "4 X 2 = 8\n",
      "4 X 3 = 12\n",
      "4 X 4 = 16\n",
      "4 X 5 = 20\n",
      "4 X 6 = 24\n",
      "4 X 7 = 28\n",
      "4 X 8 = 32\n",
      "4 X 9 = 36\n",
      "4 X 10 = 40\n"
     ]
    }
   ],
   "source": [
    "n = int(input(\"Digite um número para visualizar sua tabuada\"))\n",
    "lista = [x*n for x in range(1,11)]\n",
    "for x in range(len(lista)):\n",
    "    print(f\"{n} X {x+1} = {lista[x]}\")"
   ]
  },
  {
   "cell_type": "markdown",
   "metadata": {},
   "source": [
    "18 - A série de Fibonacci é formada pela seqüência 1,1,2,3,5,8,13,21,34,55,... Faça um programa capaz de gerar a série até o n−ésimo termo."
   ]
  },
  {
   "cell_type": "code",
   "execution_count": 99,
   "metadata": {},
   "outputs": [
    {
     "name": "stdout",
     "output_type": "stream",
     "text": [
      "Quantos valores da série Fibonacci deseja mostrar?: 15\n",
      "O termo selecionado é:  610\n",
      "A série fica:  [1, 1, 2, 3, 5, 8, 13, 21, 34, 55, 89, 144, 233, 377, 610]\n"
     ]
    }
   ],
   "source": [
    "n = int( input( \"Quantos valores da série Fibonacci deseja mostrar?: \" ) )\n",
    "\n",
    "ultimo=1\n",
    "penultimo=1\n",
    "lista = []\n",
    "\n",
    "if ( n==1 ):\n",
    "    lista = [1]\n",
    "elif ( n==2 ):\n",
    "    lista = [1, 1]\n",
    "else:\n",
    "    lista = [1, 1]\n",
    "    count=3\n",
    "    while count <= n:\n",
    "        termo = ultimo + penultimo\n",
    "        penultimo = ultimo\n",
    "        ultimo = termo\n",
    "        lista += [termo]\n",
    "        count += 1\n",
    "    print( \"O termo selecionado é: \", termo )\n",
    "print( \"A série fica: \", lista )"
   ]
  },
  {
   "cell_type": "markdown",
   "metadata": {},
   "source": [
    "19 - Faça um programa que calcule o fatorial de um número inteiro fornecido pelo usuário. Ex.: 5!=5.4.3.2.1=120"
   ]
  },
  {
   "cell_type": "code",
   "execution_count": 109,
   "metadata": {},
   "outputs": [
    {
     "name": "stdout",
     "output_type": "stream",
     "text": [
      "Digite um número para calcular seu fatorial: 4\n",
      "O valor fatorial de 4! = 24\n"
     ]
    }
   ],
   "source": [
    "n = int( input( \"Digite um número para calcular seu fatorial: \" ) )\n",
    "lista = []\n",
    "fatorial = n\n",
    "\n",
    "lista = [x for x in range( 1,n )]\n",
    "for x in range( len( lista ) ):\n",
    "    fatorial = fatorial*lista[x]\n",
    "print( f\"O valor fatorial de {n}! = {fatorial}\" )"
   ]
  },
  {
   "cell_type": "markdown",
   "metadata": {},
   "source": [
    "20 - O Sr. Manoel Joaquim possui uma grande loja de artigos de R$ 1,99, com cerca de 10 caixas. Para agilizar o cálculo de quanto cada cliente deve pagar ele desenvolveu um tabela que contém o número de itens que o cliente comprou e ao lado o valor da conta. Desta forma a atendente do caixa precisa apenas contar quantos itens o cliente está levando e olhar na tabela de preços. Você foi contratado para desenvolver o programa que monta esta tabela de preços, que conterá os preços de 1 até 50 produtos, conforme o exemplo abaixo:\n",
    "\n",
    "Lojas Quase Dois - Tabela de preços\n",
    "1 - R$ 1.99\n",
    "2 - R$ 3.98\n",
    "...\n",
    "50 - R$ 99.50"
   ]
  },
  {
   "cell_type": "code",
   "execution_count": 10,
   "metadata": {},
   "outputs": [
    {
     "name": "stdout",
     "output_type": "stream",
     "text": [
      "Lojas Quase Dois - Tabela de preços:\n",
      "1 - R$ 1.99\n",
      "2 - R$ 3.98\n",
      "3 - R$ 5.97\n",
      "4 - R$ 7.96\n",
      "5 - R$ 9.95\n",
      "6 - R$ 11.94\n",
      "7 - R$ 13.93\n",
      "8 - R$ 15.92\n",
      "9 - R$ 17.91\n",
      "10 - R$ 19.90\n",
      "11 - R$ 21.89\n",
      "12 - R$ 23.88\n",
      "13 - R$ 25.87\n",
      "14 - R$ 27.86\n",
      "15 - R$ 29.85\n",
      "16 - R$ 31.84\n",
      "17 - R$ 33.83\n",
      "18 - R$ 35.82\n",
      "19 - R$ 37.81\n",
      "20 - R$ 39.80\n",
      "21 - R$ 41.79\n",
      "22 - R$ 43.78\n",
      "23 - R$ 45.77\n",
      "24 - R$ 47.76\n",
      "25 - R$ 49.75\n",
      "26 - R$ 51.74\n",
      "27 - R$ 53.73\n",
      "28 - R$ 55.72\n",
      "29 - R$ 57.71\n",
      "30 - R$ 59.70\n",
      "31 - R$ 61.69\n",
      "32 - R$ 63.68\n",
      "33 - R$ 65.67\n",
      "34 - R$ 67.66\n",
      "35 - R$ 69.65\n",
      "36 - R$ 71.64\n",
      "37 - R$ 73.63\n",
      "38 - R$ 75.62\n",
      "39 - R$ 77.61\n",
      "40 - R$ 79.60\n",
      "41 - R$ 81.59\n",
      "42 - R$ 83.58\n",
      "43 - R$ 85.57\n",
      "44 - R$ 87.56\n",
      "45 - R$ 89.55\n",
      "46 - R$ 91.54\n",
      "47 - R$ 93.53\n",
      "48 - R$ 95.52\n",
      "49 - R$ 97.51\n",
      "50 - R$ 99.50\n"
     ]
    }
   ],
   "source": [
    "# itens = int(input(\"Digite quantos produtos o cliente deseja comprar: \"))\n",
    "valor = [x*1.99 for x in range(1,51)]\n",
    "print(\"Lojas Quase Dois - Tabela de preços:\")\n",
    "for x in range(len(valor)):\n",
    "    print(f\"{x+1} - R$ {valor[x]:.2f}\")\n",
    "# print(valor, valor[itens-1])"
   ]
  },
  {
   "cell_type": "markdown",
   "metadata": {},
   "source": [
    "21 - O Sr. Manoel Joaquim acaba de adquirir uma panificadora e pretende implantar a metodologia da tabelinha, que já é um sucesso na sua loja de 1,99. Você foi contratado para desenvolver o programa que monta a tabela de preços de pães, de 1 até 50 pães, a partir do preço do pão informado pelo usuário, conforme o exemplo abaixo:\n",
    "\n",
    "Preço do pão: R$ 0.18\n",
    "Panificadora Pão de Ontem - Tabela de preços\n",
    "1 - R$ 0.18\n",
    "2 - R$ 0.36\n",
    "...\n",
    "50 - R$ 9.00"
   ]
  },
  {
   "cell_type": "code",
   "execution_count": 1,
   "metadata": {},
   "outputs": [
    {
     "name": "stdout",
     "output_type": "stream",
     "text": "Panificadora Pão de Ontem - Tabela de preços:\n1 - R$ 0.20\n2 - R$ 0.40\n3 - R$ 0.60\n4 - R$ 0.80\n5 - R$ 1.00\n6 - R$ 1.20\n7 - R$ 1.40\n8 - R$ 1.60\n9 - R$ 1.80\n10 - R$ 2.00\n11 - R$ 2.20\n12 - R$ 2.40\n13 - R$ 2.60\n14 - R$ 2.80\n15 - R$ 3.00\n16 - R$ 3.20\n17 - R$ 3.40\n18 - R$ 3.60\n19 - R$ 3.80\n20 - R$ 4.00\n21 - R$ 4.20\n22 - R$ 4.40\n23 - R$ 4.60\n24 - R$ 4.80\n25 - R$ 5.00\n26 - R$ 5.20\n27 - R$ 5.40\n28 - R$ 5.60\n29 - R$ 5.80\n30 - R$ 6.00\n31 - R$ 6.20\n32 - R$ 6.40\n33 - R$ 6.60\n34 - R$ 6.80\n35 - R$ 7.00\n36 - R$ 7.20\n37 - R$ 7.40\n38 - R$ 7.60\n39 - R$ 7.80\n40 - R$ 8.00\n41 - R$ 8.20\n42 - R$ 8.40\n43 - R$ 8.60\n44 - R$ 8.80\n45 - R$ 9.00\n46 - R$ 9.20\n47 - R$ 9.40\n48 - R$ 9.60\n49 - R$ 9.80\n50 - R$ 10.00\n"
    }
   ],
   "source": [
    "valor = float(input(\"Digite o valor do pão: \"))\n",
    "tabela = [x*valor for x in range(1,51)]\n",
    "print(\"Panificadora Pão de Ontem - Tabela de preços:\")\n",
    "for x in range(len(tabela)):\n",
    "    print(f\"{x+1} - R$ {tabela[x]:.2f}\")"
   ]
  },
  {
   "cell_type": "markdown",
   "metadata": {},
   "source": [
    "22 - O Sr. Manoel Joaquim expandiu seus negócios para além dos negócios de 1,99 e agora possui uma loja de conveniências. Faça um programa que implemente uma caixa registradora rudimentar. O programa deverá receber um número desconhecido de valores referentes aos preços das mercadorias. Um valor zero deve ser informado pelo operador para indicar o final da compra. O programa deve então mostrar o total da compra e perguntar o valor em dinheiro que o cliente forneceu, para então calcular e mostrar o valor do troco. Após esta operação, o programa deverá voltar ao ponto inicial, para registrar a próxima compra. A saída deve ser conforme o exemplo abaixo:\n",
    "\n",
    "Lojas Tabajara \n",
    "Produto 1: R$ 2.20\n",
    "Produto 2: R$ 5.80\n",
    "Produto 3: R$ 0\n",
    "Total: R$ 9.00\n",
    "Dinheiro: R$ 20.00\n",
    "Troco: R$ 11.00\n",
    "..."
   ]
  },
  {
   "cell_type": "code",
   "execution_count": 40,
   "metadata": {},
   "outputs": [
    {
     "name": "stdout",
     "output_type": "stream",
     "text": [
      "Digite o valor do produto: R$ 5.2\n",
      "Digite o valor do produto: R$ 3.6\n",
      "Digite o valor do produto: R$ 0\n",
      "Lojas Tabajara\n",
      "Produto 1: R$ 5.2\n",
      "Produto 2: R$ 3.6\n",
      "Produto 3: R$ 0.0\n",
      "Total: R$ 8.80\n",
      "Dinheiro: R$ 20\n",
      "Troco: R$ 11.20\n"
     ]
    }
   ],
   "source": [
    "p_produtos = []\n",
    "valor = -1\n",
    "soma = 0\n",
    "while(valor != 0):\n",
    "    valor = float(input(\"Digite o valor do produto: R$ \"))\n",
    "    p_produtos += [valor]\n",
    "    soma = soma + valor\n",
    "print(\"Lojas Tabajara\")\n",
    "for x in range(len(p_produtos)):\n",
    "    print(f\"Produto {x+1}: R$ {p_produtos[x]}\")\n",
    "print(f\"Total: R$ {soma:.2f}\")\n",
    "dinheiro = round(float(input(f\"Dinheiro: R$ \")),2)\n",
    "troco = dinheiro - soma\n",
    "print(f\"Troco: R$ {troco:.2f}\")"
   ]
  },
  {
   "cell_type": "markdown",
   "metadata": {},
   "source": [
    "23 - Foi feita uma estatística em cinco cidades brasileiras para coletar dados sobre acidentes de trânsito. Foram obtidos os seguintes dados:\n",
    "- Código da cidade;\n",
    "- Número de veículos de passeio (em 1999);\n",
    "- Número de acidentes de trânsito com vítimas (em 1999). Deseja-se saber:\n",
    "- Qual o maior e menor índice de acidentes de transito e a que cidade pertence;\n",
    "- Qual a média de veículos nas cinco cidades juntas;\n",
    "- Qual a média de acidentes de trânsito nas cidades com menos de 2.000 veículos de passeio."
   ]
  },
  {
   "cell_type": "code",
   "execution_count": 135,
   "metadata": {},
   "outputs": [
    {
     "name": "stdout",
     "output_type": "stream",
     "text": [
      "Digite o código da cidade: SP\n",
      "Digite o número de veículos de passeio (em 1999): 564\n",
      "Digite o número de acidentes de trânsito com vítimas (em 1999): 544\n",
      "Digite o código da cidade: AS\n",
      "Digite o número de veículos de passeio (em 1999): 345\n",
      "Digite o número de acidentes de trânsito com vítimas (em 1999): 154\n",
      "Digite o código da cidade: VC\n",
      "Digite o número de veículos de passeio (em 1999): 3254\n",
      "Digite o número de acidentes de trânsito com vítimas (em 1999): 401\n",
      "[('SP', 564, 544), ('AS', 345, 154), ('VC', 3254, 401)]\n",
      "O maior índice de acidentes de trânsito é de:\n",
      " ->544 veículos em SP\n",
      "O menor índice de acidentes de trânsito é de:\n",
      " ->154 veículos em AS\n",
      "A média de veículos nas 3 cidades é de:\n",
      " ->1387.67\n",
      "A média de acidentes em cidades com menos de 2000 veículos de passeio é de:\n",
      " ->349.00\n"
     ]
    }
   ],
   "source": [
    "n_cidades = 3\n",
    "\n",
    "count = 0\n",
    "count_2000 = 0\n",
    "dados = {}\n",
    "lista = []\n",
    "sum_v = 0\n",
    "sum_a = 0\n",
    "media_v = 0\n",
    "media_a = 0\n",
    "\n",
    "def sortAcidente( val ): \n",
    "    return val[2]\n",
    "\n",
    "while( count < n_cidades ):\n",
    "    uf = input( \"Digite o código da cidade: \" )\n",
    "    n_veiculo = int( input( \"Digite o número de veículos de passeio ( em 1999 ): \" ) )\n",
    "    n_acidente = int( input( \"Digite o número de acidentes de trânsito com vítimas ( em 1999 ): \" ) )\n",
    "    lista += [( uf, n_veiculo, n_acidente )]\n",
    "    sum_v += + n_veiculo\n",
    "    if( n_veiculo < 2000 ):\n",
    "        sum_a += n_acidente\n",
    "        count_2000 += 1\n",
    "    count+=1\n",
    "media_v = sum_v / n_cidades\n",
    "media_a = sum_a / count_2000\n",
    "print( lista )\n",
    "lista.sort( key = sortAcidente, reverse = True )\n",
    "print( f\"O maior índice de acidentes de trânsito é de:\\n -> {lista[0][2]} veículos em {lista[0][0]}\" )\n",
    "lista.sort( key = sortAcidente )\n",
    "print( f\"O menor índice de acidentes de trânsito é de:\\n -> {lista[0][2]} veículos em {lista[0][0]}\" )\n",
    "print( f\"A média de veículos nas {n_cidades} cidades é de:\\n -> {media_v:.2f}\" )\n",
    "print( f\"A média de acidentes em cidades com menos de 2000 veículos de passeio é de:\\n -> {media_a:.2F}\" )"
   ]
  },
  {
   "cell_type": "markdown",
   "metadata": {},
   "source": [
    "24 - Faça um programa que receba o valor de uma dívida e mostre uma tabela com os seguintes dados: valor da dívida, valor dos juros, quantidade de parcelas e valor da parcela.\n",
    "Os juros e a quantidade de parcelas seguem a tabela abaixo:\n",
    "Quantidade de Parcelas  % de Juros sobre o valor inicial da dívida\n",
    "\n",
    "1       0\n",
    "3       10\n",
    "6       15\n",
    "9       20\n",
    "12      25\n",
    "\n",
    "Exemplo de saída do programa:\n",
    "\n",
    "Valor da Dívida Valor dos Juros Quantidade de Parcelas  Valor da Parcela\n",
    "R$ 1.000,00     0               1                       R$  1.000,00\n",
    "R$ 1.100,00     100             3                       R$    366,00\n",
    "R$ 1.150,00     150             6                       R$    191,67\n",
    "\n"
   ]
  },
  {
   "cell_type": "code",
   "execution_count": 87,
   "metadata": {},
   "outputs": [
    {
     "name": "stdout",
     "output_type": "stream",
     "text": [
      "Digite o valor da dívida: 1000\n",
      "Valor da Dívida Valor dos Juros Quantidade de Parcelas  Valor da Parcela\n",
      " R$    1000.00   R$       0.00     1                     R$    1000.00\n",
      " R$    1100.00   R$     100.00     3                     R$     366.67\n",
      " R$    1150.00   R$     150.00     6                     R$     191.67\n",
      " R$    1200.00   R$     200.00     9                     R$     133.33\n",
      " R$    1250.00   R$     250.00    12                     R$     104.17\n"
     ]
    }
   ],
   "source": [
    "divida = float( input( \"Digite o valor da dívida: \" ) )\n",
    "valor=0.0\n",
    "juros = 0.0\n",
    "v_parcelo = 0.0\n",
    "parcela_juros = [( 1,0 ), ( 3,10 ), ( 6,15 ), ( 9,20 ), ( 12,25 )]\n",
    "print( \"Valor da Dívida Valor dos Juros Quantidade de Parcelas  Valor da Parcela\" )\n",
    "for parcela,y in parcela_juros:\n",
    "    juros = y/100*divida\n",
    "    valor = divida + juros\n",
    "    v_parcela = valor/parcela\n",
    "    print( \n",
    "        f\" R$ {valor:10.2f}   R$ {juros:10.2f}   {parcela:3}                     R$ {v_parcela:10.2f}\"\n",
    "     )"
   ]
  },
  {
   "cell_type": "markdown",
   "metadata": {},
   "source": [
    "25 - Faça um programa que mostre os n termos da Série a seguir:\n",
    "S = 1/1 + 2/3 + 3/5 + 4/7 + 5/9 + ... + n/m. \n",
    "Imprima no final a soma da série."
   ]
  },
  {
   "cell_type": "code",
   "execution_count": 111,
   "metadata": {},
   "outputs": [
    {
     "name": "stdout",
     "output_type": "stream",
     "text": [
      "Digite a quantidade de divisões que deseja somar: 10\n",
      "S = 1/1 + 2/3 + 3/5 + 4/7 + 5/9 + 6/11 + 7/13 + 8/15 + 9/17 + 10/19\n",
      "A soma é = 6.066627765079777\n"
     ]
    }
   ],
   "source": [
    "z = int(input(\"Digite a quantidade de divisões que deseja somar: \"))\n",
    "sum = 0\n",
    "n = [x for x in range(1,z+1)]\n",
    "m = [x for x in range(1,(z*2)+1) if x%2!=0]\n",
    "r = ''\n",
    "lista = list(zip(n,m))\n",
    "for n,m in lista:\n",
    "    sum += n/m\n",
    "    r += f\"{n}/{m} + \"\n",
    "# print(n,m)\n",
    "# print(lista)\n",
    "print(f\"S = {r[:len(r)-3]}\")\n",
    "print(f\"A soma é = {sum}\")"
   ]
  }
 ],
 "metadata": {
  "kernelspec": {
   "display_name": "Python 3",
   "language": "python",
   "name": "python3"
  },
  "language_info": {
   "codemirror_mode": {
    "name": "ipython",
    "version": 3
   },
   "file_extension": ".py",
   "mimetype": "text/x-python",
   "name": "python",
   "nbconvert_exporter": "python",
   "pygments_lexer": "ipython3",
   "version": "3.8.2-final"
  }
 },
 "nbformat": 4,
 "nbformat_minor": 2
}